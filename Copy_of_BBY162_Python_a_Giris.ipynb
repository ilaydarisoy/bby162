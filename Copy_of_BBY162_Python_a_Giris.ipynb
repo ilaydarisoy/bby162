{
  "nbformat": 4,
  "nbformat_minor": 0,
  "metadata": {
    "colab": {
      "name": "Copy of BBY162_Python_a_Giris.ipynb",
      "provenance": [],
      "collapsed_sections": [
        "0S8fTkAqVb4v",
        "9JeaGlvQYylS",
        "VzeGixS6Y919",
        "2irKEi_raxaB",
        "_6eRj3kmeyGw",
        "i3Qht_zmjLf2",
        "f5MK6vZOl6dG",
        "OUWeht_8nyCx",
        "C0G673j0pQD4",
        "NU2bhXlwuUtj",
        "qhLUJ8wJM79g",
        "9UNmx1IUNSrB",
        "ipcnECBCOKWX",
        "Xo6sOrv-PpgY",
        "op2D6v9xQsRe",
        "xPgrx41FRbrw",
        "aIfLylzcShEG",
        "mKLQLw8_TJyz",
        "T_u1X0aKVAO2",
        "cft6m1VaVqVH",
        "16m1oC6LWEdJ",
        "nTiryVt-EuJP",
        "H78J_wNDE1Id",
        "D_Vt3_mQJq9Q",
        "qiE0PiXLPQmM",
        "J_f83oCDS-Hz",
        "HkDm5do0Vduc",
        "9qqctZNZX6q4",
        "iFlaNCzFpdIj",
        "0R6l7TiLyI1H",
        "rd-bsVch9Dxb"
      ],
      "toc_visible": true,
      "include_colab_link": true
    },
    "kernelspec": {
      "name": "python3",
      "display_name": "Python 3"
    }
  },
  "cells": [
    {
      "cell_type": "markdown",
      "metadata": {
        "id": "view-in-github",
        "colab_type": "text"
      },
      "source": [
        "<a href=\"https://colab.research.google.com/github/ilaydarisoy/bby162/blob/master/Copy_of_BBY162_Python_a_Giris.ipynb\" target=\"_parent\"><img src=\"https://colab.research.google.com/assets/colab-badge.svg\" alt=\"Open In Colab\"/></a>"
      ]
    },
    {
      "cell_type": "markdown",
      "metadata": {
        "id": "6IOyCRzqRgBu",
        "colab_type": "text"
      },
      "source": [
        "Bu çalışma defteri Stepnik eğitim platformunda yer alan Jetbrains'in \"Introduction to Python\" dersi temel alınarak hazırlanmıştır. (https://stepik.org/course/238)\n"
      ]
    },
    {
      "cell_type": "markdown",
      "metadata": {
        "id": "AE4EYdj6VPvq",
        "colab_type": "text"
      },
      "source": [
        "# Bölüm 01: Giriş"
      ]
    },
    {
      "cell_type": "markdown",
      "metadata": {
        "id": "4nLn-agoUdfh",
        "colab_type": "text"
      },
      "source": [
        "## İlk Bilgisayar Programımız\n",
        "Geleneksel olarak herhangi bir programlama dilinde yazdığınız ilk program \"Merhaba Dünya!\"'dır."
      ]
    },
    {
      "cell_type": "markdown",
      "metadata": {
        "id": "xhY6ovVFSBp1",
        "colab_type": "text"
      },
      "source": [
        "**Örnek Uygulama:**\n",
        "```\n",
        "print(\"Merhaba Dünya!\")\n",
        "```"
      ]
    },
    {
      "cell_type": "markdown",
      "metadata": {
        "id": "MuYQpCfoh7In",
        "colab_type": "text"
      },
      "source": [
        "**Görev:** Kendinizi dünyaya tanıtacak ilk bilgisayar programınızı yazın!"
      ]
    },
    {
      "cell_type": "code",
      "metadata": {
        "id": "CBHkVbIlUXgW",
        "colab_type": "code",
        "cellView": "both",
        "outputId": "9ca49855-ba8c-4c51-a1bb-57f3eae5b297",
        "colab": {
          "base_uri": "https://localhost:8080/",
          "height": 34
        }
      },
      "source": [
        "print(\"hello\")"
      ],
      "execution_count": 0,
      "outputs": [
        {
          "output_type": "stream",
          "text": [
            "hello\n"
          ],
          "name": "stdout"
        }
      ]
    },
    {
      "cell_type": "markdown",
      "metadata": {
        "id": "0S8fTkAqVb4v",
        "colab_type": "text"
      },
      "source": [
        "## Yorumlar\n",
        "Python'daki yorumlar # \"hash\" karakteriyle başlar ve fiziksel çizginin sonuna kadar uzanır. Yorum yapmak için kullandığımız # \"hash\" karakteri kod satırlarını geçici olarak devre dışı bırakmak amacıyla da kullanılabilir. "
      ]
    },
    {
      "cell_type": "markdown",
      "metadata": {
        "colab_type": "text",
        "id": "ql-GYfPYWpUW"
      },
      "source": [
        "**Örnek Uygulama:**\n",
        "```\n",
        "# Bu ilk bilgisayar programım için ilk yorumum\n",
        "print(\"# bu bir yorum değildir\")\n",
        "print(\"Merhaba!\")  # yorumlar kod satırının devamında da yapılabilir.\n",
        "#print(\"Bu kod geçici olarak devre dışı bırakılmıştır.\")\n",
        "```\n"
      ]
    },
    {
      "cell_type": "markdown",
      "metadata": {
        "id": "4ufK03hEiP76",
        "colab_type": "text"
      },
      "source": [
        "**Görev:** Bilgisayar kodunuza yeni yorum ekleyin, kodları geçici olarak devre dışı bırakın!"
      ]
    },
    {
      "cell_type": "code",
      "metadata": {
        "id": "QzUppEjoXLPM",
        "colab_type": "code",
        "outputId": "30977972-0d0e-4893-85a8-050af2f0c57a",
        "colab": {
          "base_uri": "https://localhost:8080/",
          "height": 51
        }
      },
      "source": [
        "print(\"Merhaba!\") \n",
        "print(\"# dsaljlka\")"
      ],
      "execution_count": 0,
      "outputs": [
        {
          "output_type": "stream",
          "text": [
            "Merhaba!\n",
            "# dsaljlka\n"
          ],
          "name": "stdout"
        }
      ]
    },
    {
      "cell_type": "markdown",
      "metadata": {
        "id": "9JeaGlvQYylS",
        "colab_type": "text"
      },
      "source": [
        "# Bölüm 02: Değişkenler"
      ]
    },
    {
      "cell_type": "markdown",
      "metadata": {
        "id": "VzeGixS6Y919",
        "colab_type": "text"
      },
      "source": [
        "## Değişken Nedir?\n",
        "Değişkenler değerleri depolamak için kullanılır, böylece daha sonra bu değişkenleri program içinde çağırarak kullanabilir. Değişkenler etiketlere benzer ve atama operatörü olarak adlandırılan eşittir ( = ) operatörü ile bir değişkene bir değer atanabilir. Bir değer ataması zincirleme şeklinde gerçekleştirilebilir. Örneğin: a = b = 2"
      ]
    },
    {
      "cell_type": "markdown",
      "metadata": {
        "id": "7tWAdnNlZtQr",
        "colab_type": "text"
      },
      "source": [
        "**Örnek Uygulama:**\n",
        "```\n",
        "a = b = 2 # Bu bir \"zincirleme atamadır\". Değer olarak atanan 2 hem  \"a\" değişkenine, hem de \"b\" değişkenine atanmaktadır.\n",
        "print(\"a = \" + str(a))\n",
        "print(\"b = \" + str(b))\n",
        "# str(a) ve  str(b) ifadesi eğitimin ilerleyen bölümlerinde anlatılacaktır.\n",
        "# Şu an için \"a\" ve \"b\" değişkenini metin formatına çevirmek için kullanılmakta olduğunu bilmeniz yeterlidir.\n",
        "\n",
        "adSoyad = \"Orçun Madran\"\n",
        "print(\"Adı Soyadı: \" + adSoyad)\n",
        "```"
      ]
    },
    {
      "cell_type": "markdown",
      "metadata": {
        "id": "szRkWMg9idf9",
        "colab_type": "text"
      },
      "source": [
        "**Görev:** \"eposta\" adlı bir değişken oluşturun. Oluşturduğunuz bu değişkene bir e-posta adresi atayın. Daha sonra atadığınız bu değeri, yazdırın. Örneğin: \"E-posta: orcun[at]madran.net\""
      ]
    },
    {
      "cell_type": "code",
      "metadata": {
        "id": "RmIa5BJsZ2EI",
        "colab_type": "code",
        "outputId": "fc00a313-a87d-47c4-ca81-11e5ad49e19d",
        "colab": {
          "base_uri": "https://localhost:8080/",
          "height": 34
        }
      },
      "source": [
        "eposta = \"i_ilayda@outlook.com\"\n",
        "print(\"eposta:\"+ eposta)"
      ],
      "execution_count": 0,
      "outputs": [
        {
          "output_type": "stream",
          "text": [
            "eposta:i_ilayda@outlook.com\n"
          ],
          "name": "stdout"
        }
      ]
    },
    {
      "cell_type": "markdown",
      "metadata": {
        "colab_type": "text",
        "id": "2irKEi_raxaB"
      },
      "source": [
        "## Değişken Tanımlama\n",
        "Değişken adları yalnızca harf, rakam ve / veya alt çizgi karakteri içerebilir ve bir rakamla başlayamaz. Python'ın 3. sürümünden itibaren değişken adlarında latin dışı karakterler (Ör: İ, ı, ç, ö, ş, ğ vb.) kullanılabilir. Ancak bu programlama dilleri genelinde tavsiye edilmez."
      ]
    },
    {
      "cell_type": "markdown",
      "metadata": {
        "id": "pOxCruNHdp9M",
        "colab_type": "text"
      },
      "source": [
        "**Örnek Uygulama:**\n",
        "```\n",
        "degisken = 1\n",
        "```"
      ]
    },
    {
      "cell_type": "markdown",
      "metadata": {
        "id": "SVwQ0Tf-isfz",
        "colab_type": "text"
      },
      "source": [
        "**Görev:** Henüz tanımlanmamış bir değişken kullanırsanız ne olacağını kontrol edin!"
      ]
    },
    {
      "cell_type": "code",
      "metadata": {
        "id": "1W14OfkxeGuN",
        "colab_type": "code",
        "outputId": "17b3e8cf-2576-4c4a-b3b2-55e858915155",
        "colab": {
          "base_uri": "https://localhost:8080/",
          "height": 34
        }
      },
      "source": [
        "degisken1 = \"Veri\"\n",
        "print(degisken1)"
      ],
      "execution_count": 0,
      "outputs": [
        {
          "output_type": "stream",
          "text": [
            "Veri\n"
          ],
          "name": "stdout"
        }
      ]
    },
    {
      "cell_type": "markdown",
      "metadata": {
        "id": "GwLgmn1fi04Q",
        "colab_type": "text"
      },
      "source": [
        "**Görev:** Tanımladığınız değişkeni ekrana yazdırın!"
      ]
    },
    {
      "cell_type": "code",
      "metadata": {
        "id": "JrNUlQAyeqHQ",
        "colab_type": "code",
        "outputId": "013ea6a5-d971-4a0d-8870-34809e7d780b",
        "colab": {
          "base_uri": "https://localhost:8080/",
          "height": 34
        }
      },
      "source": [
        "degisken1 = \"Veri\"\n",
        "print(degisken1)"
      ],
      "execution_count": 0,
      "outputs": [
        {
          "output_type": "stream",
          "text": [
            "Veri\n"
          ],
          "name": "stdout"
        }
      ]
    },
    {
      "cell_type": "markdown",
      "metadata": {
        "id": "_6eRj3kmeyGw",
        "colab_type": "text"
      },
      "source": [
        "## Değişken Türleri\n",
        "Python'da iki ana sayı türü vardır; tam sayılar ve ondalık sayılar.\n",
        "\n",
        "---\n",
        "\n",
        "\n",
        "**Dikkat:** Ondalık sayıların yazımında Türkçe'de *virgül* (,) kullanılmasına rağmen, programlama dillerinin evrensel yazım kuralları içerisinde ondalık sayılar *nokta* (.) ile ifade edilir."
      ]
    },
    {
      "cell_type": "markdown",
      "metadata": {
        "id": "37MxozrGf1-F",
        "colab_type": "text"
      },
      "source": [
        "**Örnek Uygulama:**\n",
        "```\n",
        "tamSayi = 5\n",
        "print(type(tamSayi))   # tamSayi değişkeninin türünü yazdırır\n",
        "\n",
        "ondalikSayi = 7.4\n",
        "print(type(ondalikSayi) # ondalikSayi değişkeninin türünü yazdırır\n",
        "```"
      ]
    },
    {
      "cell_type": "markdown",
      "metadata": {
        "id": "asiOZVmbn_TO",
        "colab_type": "text"
      },
      "source": [
        "**Görev:** \"sayi\" değişkeninin türünü belirleyerek ekrana yazdırın!"
      ]
    },
    {
      "cell_type": "code",
      "metadata": {
        "id": "UrGfF38CgjdQ",
        "colab_type": "code",
        "cellView": "both",
        "outputId": "1bcb1b9d-cbeb-4d05-9aef-cb8ea931ad41",
        "colab": {
          "base_uri": "https://localhost:8080/",
          "height": 34
        }
      },
      "source": [
        "sayi = 9.0\n",
        "print(type(sayi))"
      ],
      "execution_count": 0,
      "outputs": [
        {
          "output_type": "stream",
          "text": [
            "<class 'float'>\n"
          ],
          "name": "stdout"
        }
      ]
    },
    {
      "cell_type": "markdown",
      "metadata": {
        "id": "i3Qht_zmjLf2",
        "colab_type": "text"
      },
      "source": [
        "## Değişken Türü Dönüştürme\n",
        "Bir veri türünü diğerine dönüştürmenize izin veren birkaç yerleşik fonksiyon (built-in function) vardır. Bu fonksiyonlar (\"int()\", \"str()\", \"float()\") uygulandıkları değişkeni dönüştürerek yeni bir nesne döndürürler. "
      ]
    },
    {
      "cell_type": "markdown",
      "metadata": {
        "id": "F-Zp8zfmkzJX",
        "colab_type": "text"
      },
      "source": [
        "**Örnek Uygulama**\n",
        "```\n",
        "sayi = 6.5\n",
        "print(type(sayi)) # \"sayi\" değişkeninin türünü ondalık olarak yazdırır\n",
        "print(sayi)\n",
        "\n",
        "sayi = int(sayi)  # Ondalık sayı olan \"sayi\" değişkenini tam sayıya dönüştürür\n",
        "print(type(sayi))\n",
        "print(sayi)\n",
        "\n",
        "sayi = float(sayi) # Tam sayı olan \"sayi\" değişkenini ondalık sayıya dönüştürür\n",
        "print(type(sayi))\n",
        "print(sayi)\n",
        "\n",
        "sayi = str(sayi) # \"sayi\" değişkeni artık düz metin halini almıştır\n",
        "print(type(sayi))\n",
        "print(sayi)\n",
        "```"
      ]
    },
    {
      "cell_type": "markdown",
      "metadata": {
        "id": "7j51gKaIlM-u",
        "colab_type": "text"
      },
      "source": [
        "**Görev:** Ondalık sayıyı tam sayıya dönüştürün ve ekrana değişken türünü ve değeri yazdırın!"
      ]
    },
    {
      "cell_type": "code",
      "metadata": {
        "id": "o9ZQ6Jr3lL6A",
        "colab_type": "code",
        "outputId": "882e1122-9981-4b80-cc96-a935d3695b5d",
        "colab": {
          "base_uri": "https://localhost:8080/",
          "height": 34
        }
      },
      "source": [
        "sayi = 3.14\n",
        "print(int(sayi))"
      ],
      "execution_count": 0,
      "outputs": [
        {
          "output_type": "stream",
          "text": [
            "3\n"
          ],
          "name": "stdout"
        }
      ]
    },
    {
      "cell_type": "markdown",
      "metadata": {
        "id": "f5MK6vZOl6dG",
        "colab_type": "text"
      },
      "source": [
        "## Aritmetik Operatörler\n",
        "Diğer tüm programlama dillerinde olduğu gibi, toplama (+), çıkarma (-), çarpma (yıldız) ve bölme (/) operatörleri sayılarla kullanılabilir. Ek olarak Python'un üs (çift yıldız) ve mod (%) operatörleri vardır.\n",
        "\n",
        "---\n",
        "**Not:** Matematik işlemlerinde geçerli olan aritmetik operatörlerin öncelik sıralamaları (çarpma, bölme, toplama, çıkarma) ve parantezlerin önceliği kuralları Python içindeki matematiksel işlemler için de geçerlidir. \n"
      ]
    },
    {
      "cell_type": "markdown",
      "metadata": {
        "id": "1THb0XpGmwSD",
        "colab_type": "text"
      },
      "source": [
        "**Örnek Uygulama:**\n",
        "```\n",
        "# Toplama işlemi\n",
        "sayi = 7.0\n",
        "sonuc = sayi + 3.5\n",
        "print(sonuc)\n",
        "\n",
        "# Çıkarma işlemi\n",
        "sayi = 200\n",
        "sonuc = sayi - 35\n",
        "print(sonuc)\n",
        "\n",
        "# Çarpma işlemi\n",
        "sayi = 44\n",
        "sonuc = sayi * 10\n",
        "print(sonuc)\n",
        "\n",
        "# Bölme işlemi\n",
        "sayi = 30\n",
        "sonuc = sayi / 3\n",
        "print(sonuc)\n",
        "\n",
        "# Üs alma işlemi\n",
        "sayi = 30\n",
        "sonuc = sayi ** 3\n",
        "print(sonuc)\n",
        "\n",
        "# Mod alma işlemi \n",
        "sayi = 35\n",
        "sonuc = sayi % 4\n",
        "print(sonuc)\n",
        "```"
      ]
    },
    {
      "cell_type": "markdown",
      "metadata": {
        "id": "jp3PvDghnJkY",
        "colab_type": "text"
      },
      "source": [
        "**Görev:** Aşağıda değer atamaları tamamlanmış olan değişkenleri kullanarak ürünlerin peşin satın alınma bedelini TL olarak hesaplayınız ve ürün adı ile birlikte ekrana yazdırınız! İpucu: Ürün adını ve ürün bedelini tek bir satırda yazdırmak isterseniz ürün bedelini str() fonksiyonu ile düz metin değişken türüne çevirmeniz gerekir. "
      ]
    },
    {
      "cell_type": "code",
      "metadata": {
        "id": "oMY_MZjmndQj",
        "colab_type": "code",
        "outputId": "54547794-06e6-4691-9a41-ced46e347585",
        "colab": {
          "base_uri": "https://localhost:8080/",
          "height": 68
        }
      },
      "source": [
        "urunAdi = \"Bisiklet\"\n",
        "urunBedeliAvro = 850\n",
        "pariteAvroTL = 7\n",
        "urunAdet = 3\n",
        "pesinAdetIndirimTL = 500\n",
        "\n",
        "sayi = 850\n",
        "sonuc = sayi * 3\n",
        "print(sonuc)\n",
        "\n",
        "sayi = 2550 \n",
        "sonuc = sayi * 7\n",
        "print(sonuc)\n",
        "\n",
        "sayi = 17850\n",
        "sonuc = sayi - 500\n",
        "print(sonuc)"
      ],
      "execution_count": 0,
      "outputs": [
        {
          "output_type": "stream",
          "text": [
            "2550\n",
            "17850\n",
            "17350\n"
          ],
          "name": "stdout"
        }
      ]
    },
    {
      "cell_type": "markdown",
      "metadata": {
        "id": "OUWeht_8nyCx",
        "colab_type": "text"
      },
      "source": [
        "## Artırılmış Atama Operatörleri\n",
        "Artırılmış atama, bir değişkenin mevcut değerine belirlenen değerin eklenerek (+=) ya da çıkartılarak (-=) atanması işlemidir. \n"
      ]
    },
    {
      "cell_type": "markdown",
      "metadata": {
        "id": "r-6ImrKCobv_",
        "colab_type": "text"
      },
      "source": [
        "**Örnek Uygulama**\n",
        "\n",
        "```\n",
        "sayi = 8\n",
        "sayi += 4  # Mevcut değer olan 8'e 4 daha ekler.\n",
        "print(sayi) \n",
        "\n",
        "sayi -= 6 # Mevcut değer olan 12'den 6 eksiltir.\n",
        "print(\"sayi = \" + str(sayi))\n",
        "```\n",
        "\n"
      ]
    },
    {
      "cell_type": "markdown",
      "metadata": {
        "id": "Du5w88EaovzQ",
        "colab_type": "text"
      },
      "source": [
        "**Görev:** \"sayi\" değişkenine 20 ekleyip, 10 çıkartarak değişkenin güncel değerini ekrana yazdırın! "
      ]
    },
    {
      "cell_type": "code",
      "metadata": {
        "id": "ro0-FwgDpCkx",
        "colab_type": "code",
        "outputId": "3bfe7a93-a20f-48f9-cdb3-f0a0b677b995",
        "colab": {
          "base_uri": "https://localhost:8080/",
          "height": 51
        }
      },
      "source": [
        "sayi = 55\n",
        "\n",
        "sayi += 20\n",
        "print(sayi)\n",
        "\n",
        "sayi -= 10 \n",
        "print(\"sayi = \" + str(sayi))"
      ],
      "execution_count": 0,
      "outputs": [
        {
          "output_type": "stream",
          "text": [
            "75\n",
            "sayi = 65\n"
          ],
          "name": "stdout"
        }
      ]
    },
    {
      "cell_type": "markdown",
      "metadata": {
        "id": "C0G673j0pQD4",
        "colab_type": "text"
      },
      "source": [
        "## Boolean Operatörleri\n",
        "Boolean, yalnızca **Doğru (True)** veya **Yanlış (False)** olabilen bir değer türüdür. Eşitlik (==) operatörleri karşılaştırılan iki değişkenin eşit olup olmadığını kontrol eder ve *True* ya da *False* değeri döndürür."
      ]
    },
    {
      "cell_type": "markdown",
      "metadata": {
        "id": "Trd3P6X4pwbu",
        "colab_type": "text"
      },
      "source": [
        "**Örnek Uygulama:**\n",
        "```\n",
        "deger1 = 10\n",
        "deger2 = 10\n",
        "esitMi = (deger1 == deger2) # Eşit olup olmadıkları kontrol ediliyor\n",
        "print(esitMi) # Değişken \"True\" olarak dönüyor\n",
        "\n",
        "deger1 = \"Python\"\n",
        "deger2 = \"Piton\"\n",
        "esitMi = (deger1 == deger2) # Eşit olup olmadıkları kontrol ediliyor\n",
        "print(esitMi) # Değişken \"False\" olarak dönüyor\n",
        "```"
      ]
    },
    {
      "cell_type": "markdown",
      "metadata": {
        "id": "QSvUSLN4p7Ra",
        "colab_type": "text"
      },
      "source": [
        "**Görev:** Atamaları yapılmış olan değişkenler arasındaki eşitliği kontrol edin ve sonucu ekrana yazıdırın!"
      ]
    },
    {
      "cell_type": "code",
      "metadata": {
        "id": "ihVP2eQpttpv",
        "colab_type": "code",
        "outputId": "3191430a-73ff-4310-e5b3-59cffcc1e9ab",
        "colab": {
          "base_uri": "https://localhost:8080/",
          "height": 34
        }
      },
      "source": [
        "sifre = \"Python2020\"\n",
        "sifreTekrar = \"Piton2020\"\n",
        "\n",
        "esitmi = (sifre == sifreTekrar)\n",
        "print(esitmi)"
      ],
      "execution_count": 0,
      "outputs": [
        {
          "output_type": "stream",
          "text": [
            "False\n"
          ],
          "name": "stdout"
        }
      ]
    },
    {
      "cell_type": "markdown",
      "metadata": {
        "id": "NU2bhXlwuUtj",
        "colab_type": "text"
      },
      "source": [
        "## Karşılaştırma Operatörleri\n",
        "Python'da, >=, <= , >, < vb. dahil olmak üzere birçok operatör bulunmaktadır. Python'daki tüm karşılaştırma operatörleri aynı önceliğe sahiptir. Karşılaştırma sonucunda boole değerleri (*True* ya da *False*) döner. Karşılaştırma operatörleri isteğe bağlı olarak arka arkaya da (zincirlenerek) kullanılabilir."
      ]
    },
    {
      "cell_type": "markdown",
      "metadata": {
        "id": "kUkH4Qe6vBIm",
        "colab_type": "text"
      },
      "source": [
        "**Örnek Uygulama:**\n",
        "```\n",
        "deger1 = 5\n",
        "deger2 = 7\n",
        "deger3 = 9\n",
        "\n",
        "print(deger1 < deger2 < deger3)  # Sonuç \"True\" olarak dönecektir\n",
        "```\n",
        "\n"
      ]
    },
    {
      "cell_type": "markdown",
      "metadata": {
        "id": "JrbnTUNavEsJ",
        "colab_type": "text"
      },
      "source": [
        "**Görev:** Aşağıda değer atamaları tamamlanmış olan değişkenleri kullanarak ürünlerin peşin satın alınma bedelini TL olarak hesaplayın. Toplam satın alma bedeli ile bütçenizi karşılaştırın. Satın alma bedelini ve bütçenizi ekrana yazdırın. Ödeme bütçenizi aşıyorsa ekrana \"False\", aşmıyorsa \"True\" yazdırın.  "
      ]
    },
    {
      "cell_type": "code",
      "metadata": {
        "id": "chsHnUn9vWDA",
        "colab_type": "code",
        "outputId": "0eaf8b4f-9e46-4bfb-d0ad-fdad0c435bb3",
        "colab": {
          "base_uri": "https://localhost:8080/",
          "height": 85
        }
      },
      "source": [
        "urunAdi = \"Bisiklet\"\n",
        "urunBedeliAvro = 850\n",
        "kurAvro = 7\n",
        "urunAdet = 3\n",
        "pesinAdetIndirimTL = 500\n",
        "butce = 15000\n",
        "\n",
        "sayi = 850 \n",
        "sonuc = sayi * 7\n",
        "print (sonuc)\n",
        "\n",
        "sayi = 5950\n",
        "sonuc = sayi * 3\n",
        "print(sonuc)\n",
        "\n",
        "sayi = 17850\n",
        "sonuc = sayi - 550\n",
        "print(sonuc)\n",
        "\n",
        "print(butce < 17300)\n"
      ],
      "execution_count": 0,
      "outputs": [
        {
          "output_type": "stream",
          "text": [
            "5950\n",
            "17850\n",
            "17300\n",
            "True\n"
          ],
          "name": "stdout"
        }
      ]
    },
    {
      "cell_type": "markdown",
      "metadata": {
        "id": "qhLUJ8wJM79g",
        "colab_type": "text"
      },
      "source": [
        "# Part 03: Metin Katarları"
      ]
    },
    {
      "cell_type": "markdown",
      "metadata": {
        "id": "9UNmx1IUNSrB",
        "colab_type": "text"
      },
      "source": [
        "## Birbirine Bağlama\n",
        "Birbirine bağlama artı (+) işlemini kullanarak iki metin katarının birleştirilmesi işlemine denir."
      ]
    },
    {
      "cell_type": "markdown",
      "metadata": {
        "id": "6usSXTKYze8y",
        "colab_type": "text"
      },
      "source": [
        "**Örnek Uygulama:**"
      ]
    },
    {
      "cell_type": "markdown",
      "metadata": {
        "id": "1CkYIUTqNhSR",
        "colab_type": "text"
      },
      "source": [
        "\n",
        "\n",
        "```\n",
        "deger1 = \"Merhaba\"\n",
        "deger2 = \"Dünya\"\n",
        "\n",
        "selamlama = deger1 + \" \" + deger2\n",
        "print(selamlama)      # Çıktı: Merhaba Dünya\n",
        "```\n",
        "\n"
      ]
    },
    {
      "cell_type": "markdown",
      "metadata": {
        "id": "n9rA4HAHNqI7",
        "colab_type": "text"
      },
      "source": [
        "**Görev:** *ad*, *soyad* ve *hitap* değişkenlerini tek bir çıktıda birleştirecek kodu yazın! "
      ]
    },
    {
      "cell_type": "code",
      "metadata": {
        "id": "xyNs9VEFOHJc",
        "colab_type": "code",
        "outputId": "ff2b69fe-da8c-469b-bd62-4f1f88754bf2",
        "colab": {
          "base_uri": "https://localhost:8080/",
          "height": 34
        }
      },
      "source": [
        "hitap = \"Öğr. Gör.\"\n",
        "ad = \"Orçun\"\n",
        "soyad = \"Madran\"\n",
        "\n",
        "selamlama = hitap + \"\" + ad \n",
        "print(selamlama)\n",
        "# Çıktı: Öğr. Gör. Orçun Madran"
      ],
      "execution_count": 0,
      "outputs": [
        {
          "output_type": "stream",
          "text": [
            "Öğr. Gör.Orçun\n"
          ],
          "name": "stdout"
        }
      ]
    },
    {
      "cell_type": "markdown",
      "metadata": {
        "id": "ipcnECBCOKWX",
        "colab_type": "text"
      },
      "source": [
        "## Metin Katarı Çarpımı\n",
        "Python, metin katarlarının çarpım sayısı kadar tekrar ettirilmesini desteklemektedir."
      ]
    },
    {
      "cell_type": "markdown",
      "metadata": {
        "id": "hKQAzEYOzyIk",
        "colab_type": "text"
      },
      "source": [
        "**Örnek Uygulama:**"
      ]
    },
    {
      "cell_type": "markdown",
      "metadata": {
        "id": "HXxuq9kMO2xm",
        "colab_type": "text"
      },
      "source": [
        "\n",
        "\n",
        "```\n",
        "metin = \"Hadi! \"\n",
        "metniCarp = metin * 4\n",
        "print(metniCarp) # Çıktı: Hadi! Hadi! Hadi! Hadi! \n",
        "```\n",
        "\n"
      ]
    },
    {
      "cell_type": "markdown",
      "metadata": {
        "id": "56NercDUOh8x",
        "colab_type": "text"
      },
      "source": [
        "**Görev:** Sizi sürekli bekleten arkadaşınızı uyarabilmek için istediğiniz sayıda \"Hadi!\" kelimesini ekrana yazdırın!"
      ]
    },
    {
      "cell_type": "code",
      "metadata": {
        "id": "j_CdqS1bPHAb",
        "colab_type": "code",
        "outputId": "0cffe0bd-23bd-4913-bb3a-7db5f90745c4",
        "colab": {
          "base_uri": "https://localhost:8080/",
          "height": 34
        }
      },
      "source": [
        "metin = \"Hadi! \"\n",
        "metniCarp = metin * 3\n",
        "print(metniCarp) # Çıktı: Hadi! Hadi! Hadi!\n"
      ],
      "execution_count": 0,
      "outputs": [
        {
          "output_type": "stream",
          "text": [
            "Hadi! Hadi! Hadi! \n"
          ],
          "name": "stdout"
        }
      ]
    },
    {
      "cell_type": "markdown",
      "metadata": {
        "id": "Xo6sOrv-PpgY",
        "colab_type": "text"
      },
      "source": [
        "##Metin Katarı Dizinleme\n",
        "Konumunu biliniyorsa, bir metin katarındaki ilgili karaktere erişebilebilir. Örneğin; str[index] metin katarındaki indeks numarasının karşılık geldiği karakteri geri döndürecektir. İndekslerin her zaman 0'dan başladığı unutulmamalıdır. İndeksler, sağdan saymaya başlamak için negatif sayılar da olabilir. -0, 0 ile aynı olduğundan, negatif indeksler -1 ile başlar."
      ]
    },
    {
      "cell_type": "markdown",
      "metadata": {
        "id": "93mxLsQ0z9bB",
        "colab_type": "text"
      },
      "source": [
        "**Örnek Uygulama:**"
      ]
    },
    {
      "cell_type": "markdown",
      "metadata": {
        "id": "VV71MAQFQaPs",
        "colab_type": "text"
      },
      "source": [
        "\n",
        "\n",
        "```\n",
        "metin = \"Python Programlama Dili\"\n",
        "print(\"h \" + metin[3])     # Not: indeksler 0'dan başlar\n",
        "```\n"
      ]
    },
    {
      "cell_type": "markdown",
      "metadata": {
        "id": "55Lviae-QTax",
        "colab_type": "text"
      },
      "source": [
        "**Görev:** İndeks numarasını kullanarak metin katarındaki ikinci \"P\" harfini ekrana yazdırın!\n"
      ]
    },
    {
      "cell_type": "code",
      "metadata": {
        "id": "dHJ48v5WQe4c",
        "colab_type": "code",
        "outputId": "18fdf1fd-4694-4a07-81df-81fbd0a39073",
        "colab": {
          "base_uri": "https://localhost:8080/",
          "height": 34
        }
      },
      "source": [
        "metin = \"Python Programlama Dili\"\n",
        "print(\"P \" + metin[0])\n",
        "\n",
        "# Çıktı: P"
      ],
      "execution_count": 0,
      "outputs": [
        {
          "output_type": "stream",
          "text": [
            "P P\n"
          ],
          "name": "stdout"
        }
      ]
    },
    {
      "cell_type": "markdown",
      "metadata": {
        "id": "op2D6v9xQsRe",
        "colab_type": "text"
      },
      "source": [
        "## Metin Katarı Negatif Dizinleme\n",
        "Metin katarının sonlarında yer alan bir karaktere daha rahat erişebilmek için indeks numarası negatif bir değer olarak belirlenebilir."
      ]
    },
    {
      "cell_type": "markdown",
      "metadata": {
        "id": "FR64ir-m0Hw2",
        "colab_type": "text"
      },
      "source": [
        "**Örnek Uygulama:**"
      ]
    },
    {
      "cell_type": "markdown",
      "metadata": {
        "id": "kZTrtqD6RM7j",
        "colab_type": "text"
      },
      "source": [
        "\n",
        "```\n",
        "metin = \"Python Programlama Dili\"\n",
        "dHarfi = metin[-4]\n",
        "print(dHarfi)\n",
        "```\n",
        "\n"
      ]
    },
    {
      "cell_type": "markdown",
      "metadata": {
        "id": "ZM6vbbChQ_4R",
        "colab_type": "text"
      },
      "source": [
        "**Task:** Metin katarının sonunda yer alan \"i\" harfini ekrana yazdırın!"
      ]
    },
    {
      "cell_type": "code",
      "metadata": {
        "id": "d49Cfw-FRJMT",
        "colab_type": "code",
        "outputId": "66627e31-e3cb-4192-e802-1d6ed12dd692",
        "colab": {
          "base_uri": "https://localhost:8080/",
          "height": 34
        }
      },
      "source": [
        "metin = \"Python Programlama Dili\"\n",
        "iHarfi = metin[-1]\n",
        "print(iHarfi)\n",
        "\n",
        "#Çıktı: i"
      ],
      "execution_count": 0,
      "outputs": [
        {
          "output_type": "stream",
          "text": [
            "i\n"
          ],
          "name": "stdout"
        }
      ]
    },
    {
      "cell_type": "markdown",
      "metadata": {
        "id": "xPgrx41FRbrw",
        "colab_type": "text"
      },
      "source": [
        "##Metin Katarı Dilimleme\n",
        "Dilimleme, bir metin katarından birden çok karakter (bir alt katar) almak için kullanılır. Söz dizimi indeks numarası ile bir karaktere erişmeye benzer, ancak iki nokta üst üste işaretiyle ayrılmış iki indeks numarası kullanılır. Ör: str[ind1:ind2].\n",
        "\n",
        "Noktalı virgülün solundaki indeks numarası belirlenmezse ilk karakterden itibaren (ilk karakter dahil) seçimin yapılacağı anlamına gelir. Ör: str[:ind2]\n",
        "\n",
        "Noktalı virgülün sağındaki indeks numarası belirlenmezse son karaktere kadar (son karakter dahil) seçimin yapılacağı anlamına gelir. Ör: str[ind1:]"
      ]
    },
    {
      "cell_type": "markdown",
      "metadata": {
        "id": "cDh07_U90Kan",
        "colab_type": "text"
      },
      "source": [
        "**Örnek Uygulama:**"
      ]
    },
    {
      "cell_type": "markdown",
      "metadata": {
        "id": "X_MHtUgUSFpY",
        "colab_type": "text"
      },
      "source": [
        "\n",
        "\n",
        "```\n",
        "metin = \"Python Programlama Dili\"\n",
        "dilimle = metin[:6]      \n",
        "print(dilimle) # Çıktı: Python\n",
        "\n",
        "metin = \"Python Programlama Dili\" \n",
        "print(metin[7:]) # Çıktı: Programlama Dili\n",
        "\n",
        "```\n",
        "\n"
      ]
    },
    {
      "cell_type": "markdown",
      "metadata": {
        "id": "SjPJOtqUR7rT",
        "colab_type": "text"
      },
      "source": [
        "**Görev:** Metin katarını dilemleyerek katarda yer alan üç kelimeyi de ayrı ayrı (alt alta) ekrana yazdırın!."
      ]
    },
    {
      "cell_type": "code",
      "metadata": {
        "id": "bHxs-WnaSKie",
        "colab_type": "code",
        "outputId": "d4bf499a-ecba-45b3-8bdd-0d626af50520",
        "colab": {
          "base_uri": "https://localhost:8080/",
          "height": 68
        }
      },
      "source": [
        "metin = \"Python Programlama Dili\" \n",
        "dilimle = metin[:6]\n",
        "print(dilimle)\n",
        "\n",
        "dilimle = metin[6:-4]\n",
        "print(metin[6:-4])\n",
        "\n",
        "dilimle = metin[19:]\n",
        "print(metin[19:])\n",
        "# Çıktı:\n",
        "# Python\n",
        "# Programlama\n",
        "# Dili"
      ],
      "execution_count": 0,
      "outputs": [
        {
          "output_type": "stream",
          "text": [
            "Python\n",
            " Programlama \n",
            "Dili\n"
          ],
          "name": "stdout"
        }
      ]
    },
    {
      "cell_type": "markdown",
      "metadata": {
        "id": "aIfLylzcShEG",
        "colab_type": "text"
      },
      "source": [
        "##In Operatörü\n",
        "Bir metin katarının belirli bir harf ya da bir alt katar içerip içermediğini kontrol etmek için, in anahtar sözcüğü kullanılır."
      ]
    },
    {
      "cell_type": "markdown",
      "metadata": {
        "id": "oToLWF8F0Mx8",
        "colab_type": "text"
      },
      "source": [
        "**Örnek Uygulama:**"
      ]
    },
    {
      "cell_type": "markdown",
      "metadata": {
        "id": "pZZxStolS-Rg",
        "colab_type": "text"
      },
      "source": [
        "\n",
        "\n",
        "```\n",
        "metin = \"Python Programlama Dili\"\n",
        "print(\"Programlama\" in metin)    # Çıktı: True\n",
        "```\n",
        "\n"
      ]
    },
    {
      "cell_type": "markdown",
      "metadata": {
        "id": "551pDT0YS14M",
        "colab_type": "text"
      },
      "source": [
        "**Görev:** Metin katarında \"Python\" kelimesinin geçip geçmediğini kontrol ederek ekrana yazdırın!"
      ]
    },
    {
      "cell_type": "code",
      "metadata": {
        "id": "2CpxVwHMTENL",
        "colab_type": "code",
        "outputId": "d1e4d3d1-bf4f-4a78-8cd7-222ea1d6df9a",
        "colab": {
          "base_uri": "https://localhost:8080/",
          "height": 34
        }
      },
      "source": [
        "metin = \"Python Programlama Dili\"\n",
        "print(\"Python\" in metin)\n",
        "\n",
        "# Çıktı: True"
      ],
      "execution_count": 0,
      "outputs": [
        {
          "output_type": "stream",
          "text": [
            "True\n"
          ],
          "name": "stdout"
        }
      ]
    },
    {
      "cell_type": "markdown",
      "metadata": {
        "id": "mKLQLw8_TJyz",
        "colab_type": "text"
      },
      "source": [
        "##Metin Katarının Uzunluğu\n",
        "Bir metin katarının kaç karakter içerdiğini saymak için len() yerleşik fonksiyonu kullanılır. "
      ]
    },
    {
      "cell_type": "markdown",
      "metadata": {
        "id": "TO1s9wYS0Qhx",
        "colab_type": "text"
      },
      "source": [
        "**Örnek Uygulama:**"
      ]
    },
    {
      "cell_type": "markdown",
      "metadata": {
        "id": "aa4IkB7CTuyr",
        "colab_type": "text"
      },
      "source": [
        "\n",
        "\n",
        "```\n",
        "metin = \"Python programlama dili\"\n",
        "print(len(metin)) # Çıktı: 23\n",
        "```\n",
        "\n"
      ]
    },
    {
      "cell_type": "markdown",
      "metadata": {
        "id": "BF5DPvyuTa4R",
        "colab_type": "text"
      },
      "source": [
        "**Görev:** Metin katarındaki cümlenin ilk yarısını ekrana yazdırın!"
      ]
    },
    {
      "cell_type": "code",
      "metadata": {
        "id": "Uvnr2f1XT05N",
        "colab_type": "code",
        "outputId": "27c2cf4a-ddc1-4aa6-dc64-50242a73bee3",
        "colab": {
          "base_uri": "https://localhost:8080/",
          "height": 34
        }
      },
      "source": [
        "metin = \"Python programlama dili, dünyada eğitim amacıyla en çok kullanılan programlama dillerinin başında gelir.\"\n",
        "print(len(metin))\n",
        "\n",
        "# Çıktı: Python programlama dili, dünyada eğitim amacıyla en"
      ],
      "execution_count": 0,
      "outputs": [
        {
          "output_type": "stream",
          "text": [
            "104\n"
          ],
          "name": "stdout"
        }
      ]
    },
    {
      "cell_type": "markdown",
      "metadata": {
        "id": "T_u1X0aKVAO2",
        "colab_type": "text"
      },
      "source": [
        "## Özel Karakterlerden Kaçma\n",
        "Metin katarları içerisinde tek ve çift tırnak kullanımı kimi zaman sorunlara yol açmaktadır. Bu karakterin metin katarları içerisinde kullanılabilmesi için \"Ters Eğik Çizgi\" ile birlikte kullanılırlar. \n",
        "\n",
        "Örneğin: 'Önümüzdeki ay \"Ankara'da Python Eğitimi\" gerçekleştirilecek' cümlesindeki tek tırnak kullanımı soruna yol açacağından 'Önümüzdeki ay \"Ankara\\'da Python Eğitimi\" gerçekleştirilecek' şeklinde kullanılmalıdır.\n",
        "\n",
        "**Not:** Tek tırnaklı metin katarlarından kaçmak için çift tırnak ya da tam tersi kullanılabilir."
      ]
    },
    {
      "cell_type": "markdown",
      "metadata": {
        "id": "WF9cEZEE0T4q",
        "colab_type": "text"
      },
      "source": [
        "**Örnek Uygulama:**"
      ]
    },
    {
      "cell_type": "markdown",
      "metadata": {
        "id": "bJX6J5bvVbZa",
        "colab_type": "text"
      },
      "source": [
        "\n",
        "\n",
        "```\n",
        "metin = 'Önümüzdeki ay \"Ankara'da Python Eğitimi\" gerçekleştirilecektir.'\n",
        "print(metin) # Çıktı: Geçersiz söz dizimi hatası dönecektir. \n",
        "\n",
        "metin = 'Önümüzdeki ay \"Ankara\\'da Python Eğitimi\" gerçekleştirilecektir.'\n",
        "print(metin) #Çıktı: Önümüzdeki ay \"Ankara'da Python Eğitimi\" gerçekleştirilecektir.\n",
        "```\n",
        "\n"
      ]
    },
    {
      "cell_type": "markdown",
      "metadata": {
        "id": "5520MewzVPmx",
        "colab_type": "text"
      },
      "source": [
        "**Task:** Metin katarındaki cümlede yer alan noktalama işaretlerinden uygun şekilde kaçarak cümleyi ekrana yazdırın!"
      ]
    },
    {
      "cell_type": "code",
      "metadata": {
        "id": "A8Gpec2uVhxU",
        "colab_type": "code",
        "outputId": "c8197ac8-8e5d-48ab-ddc9-28bc6bcc9d68",
        "colab": {
          "base_uri": "https://localhost:8080/",
          "height": 34
        }
      },
      "source": [
        "metin = 'Bilimsel çalışmalarda \"Python\" kullanı\\'mı Türkiye\\'de çok yaygınlaştı!'\n",
        "print(metin) "
      ],
      "execution_count": 0,
      "outputs": [
        {
          "output_type": "stream",
          "text": [
            "Bilimsel çalışmalarda \"Python\" kullanı'mı Türkiye'de çok yaygınlaştı!\n"
          ],
          "name": "stdout"
        }
      ]
    },
    {
      "cell_type": "markdown",
      "metadata": {
        "id": "cft6m1VaVqVH",
        "colab_type": "text"
      },
      "source": [
        "##Basit Metin Katarı Metodları\n",
        "Python içinde birçok yerleşik metin katarı fonksiyonu vardır. En çok kullanılan fonksiyonlardan bazıları olarak;\n",
        "\n",
        "* tüm harfleri büyük harfe dönüştüren upper(),\n",
        "* tüm harfleri küçük harfe dönüştüren lower(),\n",
        "* sadece cümlenin ilk harfini büyük hale getiren capitalize() sayılabilir.\n",
        "\n",
        "**Not:** Python'daki yerleşik fonksiyonların bir listesini görüntüleyebilmek için metin katarından sonra bir nokta (.) koyulur ve uygun olan fonksiyonlar arayüz tarafından otomatik olarak listelenir. Bu yardımcı işlevi tetiklemek için CTRL + Bolşuk tuş kombinasyonu da kullanılabilir."
      ]
    },
    {
      "cell_type": "markdown",
      "metadata": {
        "id": "5_V3UGn20YGV",
        "colab_type": "text"
      },
      "source": [
        "**Örnek Uygulama:**"
      ]
    },
    {
      "cell_type": "markdown",
      "metadata": {
        "id": "S3-V5gloV3MM",
        "colab_type": "text"
      },
      "source": [
        "\n",
        "\n",
        "```\n",
        "metin = \"Python Programlama Dili\"\n",
        "print(metin.lower())    # Çıktı: python programlama dili\n",
        "print(metin.upper())    # Çıktı: PYTHON PROGRAMLAMA DILI\n",
        "print(metin.capitalize())    # Çıktı: Python programlama dili\n",
        "```\n",
        "\n"
      ]
    },
    {
      "cell_type": "markdown",
      "metadata": {
        "id": "-ko2Gpq_Vz23",
        "colab_type": "text"
      },
      "source": [
        "**Görev:** *anahtarKelime* ve *arananKelime* değişkenlerinde yer alan metinler karşılaştırıldığında birbirlerine eşit (==) olmalarını sağlayın ve dönen değerin \"True\" olmasını sağlayın!"
      ]
    },
    {
      "cell_type": "code",
      "metadata": {
        "id": "XfaN4psBV8wr",
        "colab_type": "code",
        "outputId": "c85cb9a6-dd27-4ed5-dac0-025e00a4aec1",
        "colab": {
          "base_uri": "https://localhost:8080/",
          "height": 68
        }
      },
      "source": [
        "anahtarKelime = \"Makine Öğrenmesi\"\n",
        "arananKelime = \"makine öğrenmesi\"\n",
        "\n",
        "anahtarKelime = \"Makine Öğrenmesi\"\n",
        "print(metin.lower())\n",
        "\n",
        "arananKelime = \"makine öğrenmesi\"\n",
        "print(metin.lower())\n",
        "\n",
        "esitMi = (anahtarKelime == arananKelime)\n",
        "print( esitMi )\n",
        "\n",
        "\n",
        "\n"
      ],
      "execution_count": 0,
      "outputs": [
        {
          "output_type": "stream",
          "text": [
            "makine öğrenmesi\n",
            "makine öğrenmesi\n",
            "False\n"
          ],
          "name": "stdout"
        }
      ]
    },
    {
      "cell_type": "markdown",
      "metadata": {
        "id": "16m1oC6LWEdJ",
        "colab_type": "text"
      },
      "source": [
        "##Metin Katarı Biçimlendirme\n",
        "Bir metin katarından sonraki % operatörü, bir metin katarını değişkenlerle birleştirmek için kullanılır. % operatörü, bir metin katarıdanki % s öğesini, arkasından gelen değişkenle değiştirir. % d özel sembolü ise, sayısal veya ondalık değerler için yer tutucu olarak kullanılır."
      ]
    },
    {
      "cell_type": "markdown",
      "metadata": {
        "id": "Qr673Q4m0czk",
        "colab_type": "text"
      },
      "source": [
        "**Örnek Uygulama:**"
      ]
    },
    {
      "cell_type": "markdown",
      "metadata": {
        "id": "1l70j4-3WP4b",
        "colab_type": "text"
      },
      "source": [
        "\n",
        "\n",
        "```\n",
        "adsoyad = \"Orçun Madran\"\n",
        "dogumTarihi = 1976\n",
        "\n",
        "print(\"Merhaba, ben %s!\" % adsoyad) #  Çıktı: Merhaba, ben Orçun Madran!\n",
        "print(\"Ben %d doğumluyum\" % dogumTarihi) #  Ben 1976 doğumluyum.\n",
        "\n",
        "ad = \"Orçun\"\n",
        "soyad = \"Madran\"\n",
        "\n",
        "print(\"Merhaba, ben %s %s!\" % (ad, soyad)) #  Çıktı: Merhaba, ben Orçun Madran!\n",
        "```\n",
        "\n"
      ]
    },
    {
      "cell_type": "markdown",
      "metadata": {
        "id": "b7ny_Q7uWJJX",
        "colab_type": "text"
      },
      "source": [
        "**Görev:** Merhaba Orçun Madran, bu dönemki dersiniz \"Programlama Dilleri\". Başarılar! cümlesini ekrana biçimlendirmeyi kullanarak (artı işaretini kullanmadan) yazdırın!"
      ]
    },
    {
      "cell_type": "code",
      "metadata": {
        "id": "HxYY3XqGWYsi",
        "colab_type": "code",
        "outputId": "f02fe79d-6595-4cc6-ce63-3ca3fba70ad4",
        "colab": {
          "base_uri": "https://localhost:8080/",
          "height": 34
        }
      },
      "source": [
        "ad = \"Orçun\"\n",
        "soyad = \"Madran\"\n",
        "ders = \"Programlama Dilleri\"\n",
        "print(\"Merhaba %s!\" % \"Orçun\" \"Madran\" , \"bu dönemki dersiniz Programlama Dilleri . Başarılar !\" )\n",
        "\n",
        "# Çıktı: Merhaba Orçun Madran, bu dönemki dersiniz \"Programlama Dilleri\". Başarılar!"
      ],
      "execution_count": 0,
      "outputs": [
        {
          "output_type": "stream",
          "text": [
            "Merhaba OrçunMadran! bu dönemki dersiniz Programlama Dilleri . Başarılar !\n"
          ],
          "name": "stdout"
        }
      ]
    },
    {
      "cell_type": "markdown",
      "metadata": {
        "id": "nTiryVt-EuJP",
        "colab_type": "text"
      },
      "source": [
        "# Bölüm 04: Veri Yapıları"
      ]
    },
    {
      "cell_type": "markdown",
      "metadata": {
        "id": "H78J_wNDE1Id",
        "colab_type": "text"
      },
      "source": [
        "## Listeler\n",
        "Liste, farklı bilgi parçalarının bir koleksiyonunu tek bir değişken adı altında saklamak için kullanabileceğiniz bir veri yapısıdır. Bir liste köşeli parantez arasında virgülle ayrılmış değerler dizisi olarak yazılabilir. Ör: liste = [deger1, deger2]. Listeler farklı türden öğeler içerebilir, ancak genellikle listedeki tüm öğeler aynı türdedir. Metin katarları gibi listeler de dizine eklenebilir ve dilimlenebilir (bkz. Bölüm 3)."
      ]
    },
    {
      "cell_type": "markdown",
      "metadata": {
        "id": "T_nubI5kGCs3",
        "colab_type": "text"
      },
      "source": [
        "**Örnek Uygulama**"
      ]
    },
    {
      "cell_type": "markdown",
      "metadata": {
        "id": "O4TC5Qs2Ge8H",
        "colab_type": "text"
      },
      "source": [
        "\n",
        "\n",
        "```\n",
        "acikListe = [\"Açık Bilim\", \"Açık Erişim\", \"Açık Veri\", \"Açık Eğitim\", \"Açık Kaynak\"]   # acikListe adında yeni bir liste oluşturur\n",
        "\n",
        "print(acikListe) # Çıktı: ['Açık Bilim', 'Açık Erişim', 'Açık Veri', 'Açık Eğitim', 'Açık Kaynak']\n",
        "```\n",
        "\n"
      ]
    },
    {
      "cell_type": "markdown",
      "metadata": {
        "colab_type": "text",
        "id": "ZqYRBLZSIJvi"
      },
      "source": [
        "**Görev 1:** acikListe içinde yer alan 3. liste öğesini ekrana yazıdırın! "
      ]
    },
    {
      "cell_type": "code",
      "metadata": {
        "id": "bVSMLdnLG7Kx",
        "colab_type": "code",
        "outputId": "0159322d-30be-4dbb-e870-fd3cc6d786fe",
        "colab": {
          "base_uri": "https://localhost:8080/",
          "height": 51
        }
      },
      "source": [
        "acikListe = [\"Açık Bilim\", \"Açık Erişim\", \"Açık Veri\", \"Açık Eğitim\", \"Açık Kaynak\"]\n",
        "print(acikListe[2])\n",
        "print(acikListe[3])"
      ],
      "execution_count": 0,
      "outputs": [
        {
          "output_type": "stream",
          "text": [
            "Açık Veri\n",
            "Açık Eğitim\n"
          ],
          "name": "stdout"
        }
      ]
    },
    {
      "cell_type": "markdown",
      "metadata": {
        "colab_type": "text",
        "id": "pZ4hTBC0JCln"
      },
      "source": [
        "**Görev 2:** acikListe içinde yer alan 4. ve 5. liste öğesini ekrana yazıdırın! "
      ]
    },
    {
      "cell_type": "code",
      "metadata": {
        "colab_type": "code",
        "id": "_DgLPxODI3aP",
        "outputId": "3f5b7f2b-a482-413e-a4d9-e5096d5c4640",
        "colab": {
          "base_uri": "https://localhost:8080/",
          "height": 51
        }
      },
      "source": [
        "acikListe = [\"Açık Bilim\", \"Açık Erişim\", \"Açık Veri\", \"Açık Eğitim\", \"Açık Kaynak\"]\n",
        "print(acikListe[3:])\n",
        "print(acikListe[3:])"
      ],
      "execution_count": 0,
      "outputs": [
        {
          "output_type": "stream",
          "text": [
            "['Açık Eğitim', 'Açık Kaynak']\n",
            "['Açık Eğitim', 'Açık Kaynak']\n"
          ],
          "name": "stdout"
        }
      ]
    },
    {
      "cell_type": "markdown",
      "metadata": {
        "id": "D_Vt3_mQJq9Q",
        "colab_type": "text"
      },
      "source": [
        "## Liste İşlemleri\n",
        "Append () yöntemini ya da birleştirmeyi += kullanarak listenin sonuna yeni öğeler (değerler) eklenebilir. Metin katarlarından farklı olarak, listeler değiştirilebilir bir türdür, yani liste[indeksNo] = yeni_deger kullanarak içeriklerini değiştirmek mümkündür."
      ]
    },
    {
      "cell_type": "markdown",
      "metadata": {
        "id": "m7Y-NBAALfyk",
        "colab_type": "text"
      },
      "source": [
        "**Örnek Uygulama**"
      ]
    },
    {
      "cell_type": "markdown",
      "metadata": {
        "colab_type": "text",
        "id": "3xGEUhipL11G"
      },
      "source": [
        "\n",
        "\n",
        "```\n",
        "acikListe = [\"Açık Bilim\", \"Açık Erişim\", \"Açık Veri\", \"Açık Eğitim\", \"Açık Kaynak\"]   # acikListe adında yeni bir liste oluşturur\n",
        "print(acikliste) # Çıktı: ['Açık Bilim', 'Açık Erişim', 'Açık Veri', 'Açık Eğitim', 'Açık Kaynak']\n",
        "\n",
        "acikListe += [\"Açık Donanım\", \"Açık İnovasyon\"]    # listeye iki yeni öğe ekler\n",
        "print(acikListe) # Çıktı: ['Açık Bilim', 'Açık Erişim', 'Açık Veri', 'Açık Eğitim', 'Açık Kaynak', 'Açık Donanım', 'Açık İnovasyon']\n",
        "\n",
        "acikListe.append(\"Açık Veri Gazeteciliği\")   # listeye yeni bir öğe ekler\n",
        "print(acikListe) # Çıktı: ['Açık Bilim', 'Açık Erişim', 'Açık Veri', 'Açık Eğitim', 'Açık Kaynak', 'Açık Donanım', 'Açık İnovasyon', 'Açık Veri Gazeteciliği']\n",
        "\n",
        "acikListe[4] = \"Açık Kaynak Kod\" # listenin 5. öğesini değiştirir\n",
        "print(acikListe) # Çıktı: ['Açık Bilim', 'Açık Erişim', 'Açık Veri', 'Açık Eğitim', 'Açık Kaynak Kod', 'Açık Donanım', 'Açık İnovasyon', 'Açık Veri Gazeteciliği']\n",
        "```\n",
        "\n"
      ]
    },
    {
      "cell_type": "markdown",
      "metadata": {
        "id": "5hgUnMj7ODY1",
        "colab_type": "text"
      },
      "source": [
        "**Görev:** bilgiBilim adlı bir liste oluşturun. Bu listeye bilgi bilim disiplini ile ilgili 3 adet anahtar kelime ya da kavram ekleyin. Bu listeyi ekrana yazdırın. Listeye istediğiniz bir yöntem ile (append(), +=) 2 yeni öğe ekleyin. Ekrana listenin son durumunu yazdırın. Listenizdeki son öğeyi değiştirin. Listenin son halini ekrana yazıdırn."
      ]
    },
    {
      "cell_type": "code",
      "metadata": {
        "id": "_gzwR_UGLkL4",
        "colab_type": "code",
        "outputId": "6b6428dc-466b-48f1-fd5b-589e17229155",
        "colab": {
          "base_uri": "https://localhost:8080/",
          "height": 85
        }
      },
      "source": [
        "#bilgiBilim \n",
        "\n",
        "bilgiBilim = [\"Infinite Learning\", \"Data analitics\", \"Bibliometrics\"]\n",
        "print(bilgiBilim) \n",
        "\n",
        "bilgiBilim += [\"AACR2\", \"Needs Assessment\", ]\n",
        "print(bilgiBilim)\n",
        "\n",
        "bilgiBilim.append(\"Advocacy\")\n",
        "print(bilgiBilim)\n",
        "\n",
        "bilgiBilim[5] = \"User Experince research\"\n",
        "print(bilgiBilim)"
      ],
      "execution_count": 0,
      "outputs": [
        {
          "output_type": "stream",
          "text": [
            "['Infinite Learning', 'Data analitics', 'Bibliometrics']\n",
            "['Infinite Learning', 'Data analitics', 'Bibliometrics', 'AACR2', 'Needs Assessment']\n",
            "['Infinite Learning', 'Data analitics', 'Bibliometrics', 'AACR2', 'Needs Assessment', 'Advocacy']\n",
            "['Infinite Learning', 'Data analitics', 'Bibliometrics', 'AACR2', 'Needs Assessment', 'User Experince research']\n"
          ],
          "name": "stdout"
        }
      ]
    },
    {
      "cell_type": "markdown",
      "metadata": {
        "id": "qiE0PiXLPQmM",
        "colab_type": "text"
      },
      "source": [
        "## Liste Öğeleri"
      ]
    },
    {
      "cell_type": "markdown",
      "metadata": {
        "id": "S7yYWbwTPXQ8",
        "colab_type": "text"
      },
      "source": [
        "Liste öğelerini dilimleme (slice) yaparak da atamak mümkündür. Bu bir listenin boyutunu değiştirebilir veya listeyi tamamen temizleyebilir."
      ]
    },
    {
      "cell_type": "markdown",
      "metadata": {
        "id": "rujdtp_XPp9N",
        "colab_type": "text"
      },
      "source": [
        "**Örnek Uygulama**"
      ]
    },
    {
      "cell_type": "markdown",
      "metadata": {
        "id": "_ooqgLJbPsXC",
        "colab_type": "text"
      },
      "source": [
        "\n",
        "\n",
        "```\n",
        "acikListe = [\"Açık Bilim\", \"Açık Erişim\", \"Açık Veri\", \"Açık Eğitim\", \"Açık Kaynak\"]   # acikListe adında yeni bir liste oluşturur\n",
        "print(acikListe) # Çıktı: ['Açık Bilim', 'Açık Erişim', 'Açık Veri', 'Açık Eğitim', 'Açık Kaynak']\n",
        "\n",
        "acikListe[2:4] = [\"Açık İnovasyon\"]    # \"Açık Veri\" ve \"Açık Eğitim\" öğelerinin yerine tek bir öğe ekler\n",
        "print(acikListe)  #Çıktı:  [\"Açık Bilim\", \"Açık Erişim\", \"Açık İnovasyon\", \"Açık Kaynak\"]\n",
        "\n",
        "acikListe[:2] = []     # listenin ilk iki öğesini siler\n",
        "print(acikListe)  #Çıktı:  [\"Açık İnovasyon\", \"Açık Kaynak\"]\n",
        "\n",
        "acikListe[:] = [] # listeyi temizler \n",
        "print(acikListe)  #Çıktı: []\n",
        "```\n",
        "\n"
      ]
    },
    {
      "cell_type": "markdown",
      "metadata": {
        "id": "4C3xLijJSKdE",
        "colab_type": "text"
      },
      "source": [
        "**Görev:** Önceki görevde oluşturulan \"bilgiBilim\" adlı listenin istediğiniz öğesini silerek listenin güncel halini ekrana yazdırın. Listeyi tamamen temizleyerek listenin güncel halini ekrana yazdırın."
      ]
    },
    {
      "cell_type": "code",
      "metadata": {
        "id": "uQPbQgJAQ8nq",
        "colab_type": "code",
        "outputId": "85ee3afe-0054-4879-fa53-1bc5bc11c7b7",
        "colab": {
          "base_uri": "https://localhost:8080/",
          "height": 51
        }
      },
      "source": [
        "#bilgiBilim\n",
        "bilgiBilim = [\"Infinite Learning\", \"Data analitics\", \"Bibliometrics\"]\n",
        "print(bilgiBilim)\n",
        "\n",
        "bilgiBilim[2:3] = [\"Advocacy\"]\n",
        "print(bilgiBilim)"
      ],
      "execution_count": 0,
      "outputs": [
        {
          "output_type": "stream",
          "text": [
            "['Infinite Learning', 'Data analitics', 'Bibliometrics']\n",
            "['Infinite Learning', 'Data analitics', 'Advocacy']\n"
          ],
          "name": "stdout"
        }
      ]
    },
    {
      "cell_type": "markdown",
      "metadata": {
        "id": "J_f83oCDS-Hz",
        "colab_type": "text"
      },
      "source": [
        "## Demetler (Tuples)"
      ]
    },
    {
      "cell_type": "markdown",
      "metadata": {
        "id": "9er0WsfhTBpI",
        "colab_type": "text"
      },
      "source": [
        "Demetler neredeyse listelerle aynı. Demetler ve listeler arasındaki tek önemli fark, demetlerin değiştirilememesidir. Demetlere öğe eklenmez, öğe değiştirilmez veya demetlerden öğe silinemez. Demetler, parantez içine alınmış bir virgül operatörü tarafından oluşturulur. Ör: demet = (\"deger1\", \"deger2\", \"deger3\"). Tek bir öğe demetinde (\"d\",) gibi bir virgül olmalıdır."
      ]
    },
    {
      "cell_type": "markdown",
      "metadata": {
        "id": "yvlCXOLOTq0o",
        "colab_type": "text"
      },
      "source": [
        "**Örnek Uygulama**"
      ]
    },
    {
      "cell_type": "markdown",
      "metadata": {
        "id": "h95qzA42Tti-",
        "colab_type": "text"
      },
      "source": [
        "\n",
        "\n",
        "```\n",
        "ulkeKodlari = (\"TR\", \"US\", \"EN\", \"JP\")\n",
        "print(ulkeKodlari)   # Çıktı: ('TR', 'US', 'EN', 'JP')\n",
        "```\n",
        "\n"
      ]
    },
    {
      "cell_type": "markdown",
      "metadata": {
        "id": "ON1kJ2-nU2ZO",
        "colab_type": "text"
      },
      "source": [
        "**Görev:** Kongre Kütüphanesi konu başlıkları listesinin kodlarından oluşan bir demet oluşturun ve ekrana yazdırın! Oluşturulan demet içindeki tek bir öğeyi ekrana yazdırın!"
      ]
    },
    {
      "cell_type": "code",
      "metadata": {
        "id": "p4i7BTX1Uv9S",
        "colab_type": "code",
        "outputId": "3334221a-0d32-4575-eacf-f9b8ae0accdc",
        "colab": {
          "base_uri": "https://localhost:8080/",
          "height": 34
        }
      },
      "source": [
        "#konuBasliklari\n",
        "konuBasliklari = (\"$a\",\"$n\",\"$p\")\n",
        "print(konuBasliklari)\n",
        "\n"
      ],
      "execution_count": 0,
      "outputs": [
        {
          "output_type": "stream",
          "text": [
            "('$a', '$n', '$p')\n"
          ],
          "name": "stdout"
        }
      ]
    },
    {
      "cell_type": "markdown",
      "metadata": {
        "id": "HkDm5do0Vduc",
        "colab_type": "text"
      },
      "source": [
        "## Sözlükler\n",
        "Sözlük, listeye benzer, ancak sözlük içindeki değerlere indeks numarası yerine bir anahtara bakarak erişilebilir. Bir anahtar herhangi bir metin katarı veya rakam olabilir. Sözlükler ayraç içine alınır. Ör: sozluk = {'anahtar1': \"değer1\", 'anahtar2': \"değer2\"}."
      ]
    },
    {
      "cell_type": "markdown",
      "metadata": {
        "id": "KAS6zUyhV6BQ",
        "colab_type": "text"
      },
      "source": [
        "**Örnek Uygulama**"
      ]
    },
    {
      "cell_type": "markdown",
      "metadata": {
        "id": "e1BbS2f3V9le",
        "colab_type": "text"
      },
      "source": [
        "\n",
        "\n",
        "```\n",
        "adresDefteri = {\"Hacettepe Üniversitesi\": \"hacettepe.edu.tr\", \"ODTÜ\": \"odtu.edu.tr\", \"Bilkent Üniversitesi\": \"bilkent.edu.tr\"} # yeni bir sözlük oluşturur\n",
        "print(adresDefteri) # Çıktı: {'Hacettepe Üniversitesi': 'hacettepe.edu.tr', 'ODTÜ': 'odtu.edu.tr', 'Bilkent Üniversitesi': 'bilkent.edu.tr'}\n",
        "\n",
        "adresDefteri[\"Ankara Üniversitesi\"] = \"ankara.edu.tr\" #sözlüğe yeni bir öğe ekler\n",
        "print(adresDefteri)  # Çıktı: {'Hacettepe Üniversitesi': 'hacettepe.edu.tr', 'ODTÜ': 'odtu.edu.tr', 'Bilkent Üniversitesi': 'bilkent.edu.tr', 'Ankara Üniversitesi': 'ankara.edu.tr'}\n",
        "\n",
        "del adresDefteri [\"Ankara Üniversitesi\"] #sözlükten belirtilen öğeyi siler\n",
        "print(adresDefteri) # Çıktı: {'Hacettepe Üniversitesi': 'hacettepe.edu.tr', 'ODTÜ': 'odtu.edu.tr', 'Bilkent Üniversitesi': 'bilkent.edu.tr'}\n",
        "```\n",
        "\n"
      ]
    },
    {
      "cell_type": "markdown",
      "metadata": {
        "id": "fDWQzlKTXYbo",
        "colab_type": "text"
      },
      "source": [
        "**Görev:** İstediğin herhangi bir konuda 5 öğeye sahip bir sözlük oluştur. Sözlüğü ekrana yazdır. Sözlükteki belirli bir öğeyi ekrana yazdır. Sözlükteki belirli bir öğeyi silerek sözlüğün güncel halini ekrana yazdır!"
      ]
    },
    {
      "cell_type": "code",
      "metadata": {
        "id": "t4-oPZTRXEuQ",
        "colab_type": "code",
        "outputId": "7c309784-44de-479f-aebe-fd0397227dc2",
        "colab": {
          "base_uri": "https://localhost:8080/",
          "height": 68
        }
      },
      "source": [
        "#sozluk\n",
        "\n",
        "sozluk = {\"purple\": \"mor\", \"light\": \"ışık\", \"sugar\": \"şeker\", \"city\":\"şehir\", \"yellow\":\"sarı\"}\n",
        "print(sozluk)\n",
        "\n",
        "sozluk[\"mask\"] = \"maske\"\n",
        "print(sozluk)\n",
        "\n",
        "del sozluk [\"mask\"]\n",
        "print(sozluk)\n"
      ],
      "execution_count": 0,
      "outputs": [
        {
          "output_type": "stream",
          "text": [
            "{'purple': 'mor', 'light': 'ışık', 'sugar': 'şeker', 'city': 'şehir', 'yellow': 'sarı'}\n",
            "{'purple': 'mor', 'light': 'ışık', 'sugar': 'şeker', 'city': 'şehir', 'yellow': 'sarı', 'mask': 'maske'}\n",
            "{'purple': 'mor', 'light': 'ışık', 'sugar': 'şeker', 'city': 'şehir', 'yellow': 'sarı'}\n"
          ],
          "name": "stdout"
        }
      ]
    },
    {
      "cell_type": "markdown",
      "metadata": {
        "id": "9qqctZNZX6q4",
        "colab_type": "text"
      },
      "source": [
        "## Sözlük Değerleri ve Anahtarları\n",
        "Sözlüklerde values() ve keys() gibi birçok yararlı fonksiyon vardır. Bir sozlük adı ve ardından noktadan sonra çıkan listeyi kullanarak geri kalan fonksiyolar incelenebilir."
      ]
    },
    {
      "cell_type": "markdown",
      "metadata": {
        "id": "SSfVp3ITYa42",
        "colab_type": "text"
      },
      "source": [
        "**Örnek Uygulama**"
      ]
    },
    {
      "cell_type": "markdown",
      "metadata": {
        "id": "EaYu0M-1Ydia",
        "colab_type": "text"
      },
      "source": [
        "\n",
        "\n",
        "```\n",
        "adresDefteri = {\"Hacettepe Üniversitesi\": \"hacettepe.edu.tr\", \"ODTÜ\": \"odtu.edu.tr\", \"Bilkent Üniversitesi\": \"bilkent.edu.tr\"} # yeni bir sözlük oluşturur\n",
        "print(adresDefteri) # Çıktı: {'Hacettepe Üniversitesi': 'hacettepe.edu.tr', 'ODTÜ': 'odtu.edu.tr', 'Bilkent Üniversitesi': 'bilkent.edu.tr'}\n",
        "\n",
        "print(adresDefteri.values()) # Çıktı: dict_values(['hacettepe.edu.tr', 'odtu.edu.tr', 'bilkent.edu.tr'])\n",
        "\n",
        "print(adresDefteri.keys()) # Çıktı: dict_keys(['Hacettepe Üniversitesi', 'ODTÜ', 'Bilkent Üniversitesi'])\n",
        "```\n",
        "\n"
      ]
    },
    {
      "cell_type": "markdown",
      "metadata": {
        "id": "twxTKZ-XY_5l",
        "colab_type": "text"
      },
      "source": [
        "**Görev:** İstediğin bir konuda istediğin öğe saysına sahip bir sözlük oluştur. Sözlükler ile ilgili farklı fonksiyoları dene. Sonuçları ekrana yazdır!"
      ]
    },
    {
      "cell_type": "code",
      "metadata": {
        "id": "CcNcGoOaZfja",
        "colab_type": "code",
        "outputId": "52e564f9-442f-4293-df54-73219785af7b",
        "colab": {
          "base_uri": "https://localhost:8080/",
          "height": 68
        }
      },
      "source": [
        "#yeniSozluk \n",
        "\n",
        "yeniSozluk = {\"anxiety\": \"anksiyete\" , \"depression\": \"depresyon\"}\n",
        "print(yeniSozluk)\n",
        "\n",
        "print(yeniSozluk.values())\n",
        "\n",
        "print(yeniSozluk.keys())"
      ],
      "execution_count": 0,
      "outputs": [
        {
          "output_type": "stream",
          "text": [
            "{'anxiety': 'anksiyete', 'depression': 'depresyon'}\n",
            "dict_values(['anksiyete', 'depresyon'])\n",
            "dict_keys(['anxiety', 'depression'])\n"
          ],
          "name": "stdout"
        }
      ]
    },
    {
      "cell_type": "markdown",
      "metadata": {
        "id": "iFlaNCzFpdIj",
        "colab_type": "text"
      },
      "source": [
        "##In Anahtar Kelimesi\n",
        "\"In\" anahtar sözcüğü, bir listenin veya sözlüğün belirli bir öğe içerip içermediğini kontrol etmek için kullanılır. Daha önce metin katarlarındaki kullanıma benzer bir kullanımı vardır. \"In\" anahtar sözcüğü ile öğe kontrolü kontrolü yapıldıktan sonra sonuç öğe listede ya da sözlükte yer alıyorsa *True* yer almıyorsa *False* olarak geri döner.\n",
        "\n",
        "**Önemli**: Aranan öğe ile liste ya da sözlük içinde yer alan öğelerin karşılaştırılması sırasında büyük-küçük harf duyarlılığı bulunmaktadır. Ör: \"Bilgi\" ve \"bilgi\" iki farklı öğe olarak değerlendirilir."
      ]
    },
    {
      "cell_type": "markdown",
      "metadata": {
        "id": "0oPHzw0wq5rw",
        "colab_type": "text"
      },
      "source": [
        "**Örnek Uygulama**"
      ]
    },
    {
      "cell_type": "markdown",
      "metadata": {
        "id": "rZ-pjki1q6bs",
        "colab_type": "text"
      },
      "source": [
        "\n",
        "\n",
        "```\n",
        "bilgiKavramları = [\"indeks\", \"erişim\", \"koleksiyon\"]   # yeni bir liste oluşturur\n",
        "\n",
        "print(\"Erişim\" in bilgiKavramları)    # Çıktı: False\n",
        "\n",
        "bilgiSozlugu = {\"indeks\": \"index\", \"erişim\": \"access\", \"koleksiyon\": \"collection\"}   # yeni bir sozluk oluşturur\n",
        "\n",
        "print(\"koleksiyon\" in bilgiSozlugu.keys())  #  çıktı: True\n",
        "```\n",
        "\n"
      ]
    },
    {
      "cell_type": "markdown",
      "metadata": {
        "id": "Pdn_zG-mq9Sx",
        "colab_type": "text"
      },
      "source": [
        "**Görev:** Bir liste ve bir sözlük oluşturun. Liste içinde istediğiniz kelimeyi aratın ve sonucunu ekrana yazdırın! Oluşturduğunuz sözlüğün içinde hem anahtar kelime (keys()) hem de değer (values()) kontrolü yaptırın ve sonucunu ekrana yazdırın!"
      ]
    },
    {
      "cell_type": "code",
      "metadata": {
        "id": "3Sl_XODcq1mL",
        "colab_type": "code",
        "outputId": "6ac15d40-83d9-42c9-cf8d-c24f0f6724b9",
        "colab": {
          "base_uri": "https://localhost:8080/",
          "height": 51
        }
      },
      "source": [
        "#yeniListe\n",
        "#yeniSozluk\n",
        "\n",
        "yeniListe = [\"books\", \"soul\", \"body\"]\n",
        "print(\"books\" in yeniListe)\n",
        "\n",
        "yeniSozluk = {\"books\": \"kitaplar\", \"soul\": \"ruh\", \"body\": \"beden\"}\n",
        "print(\"soul\" in yeniSozluk.keys())"
      ],
      "execution_count": 0,
      "outputs": [
        {
          "output_type": "stream",
          "text": [
            "True\n",
            "True\n"
          ],
          "name": "stdout"
        }
      ]
    },
    {
      "cell_type": "markdown",
      "metadata": {
        "id": "o68yxOoTx1vA",
        "colab_type": "text"
      },
      "source": [
        "#Bölüm 05: Koşullu İfadeler"
      ]
    },
    {
      "cell_type": "markdown",
      "metadata": {
        "id": "0R6l7TiLyI1H",
        "colab_type": "text"
      },
      "source": [
        "##Mantıksal Operatörler\n",
        "Mantıksal operatörler ifadeleri karşılaştırır ve sonuçları *True* ya da *False* değerleriyle döndürür. Python'da üç tane mantıksal operatör bulunur:\n",
        "\n",
        "1. \"and\" operatörü: Her iki yanındaki ifadeler doğru olduğunda *True* değerini döndürür.\n",
        "2. \"or\" operatörü: Her iki tarafındaki ifadelerden en az bir ifade doğru olduğunda \"True\" değerini döndürür.\n",
        "3. \"not\" operatörü: İfadenin tam tersi olarak değerlendirilmesini sağlar.\n"
      ]
    },
    {
      "cell_type": "markdown",
      "metadata": {
        "id": "Rp86gPKQ1oau",
        "colab_type": "text"
      },
      "source": [
        "**Örnek Uygulama**"
      ]
    },
    {
      "cell_type": "markdown",
      "metadata": {
        "id": "6HZvGmjG1rxk",
        "colab_type": "text"
      },
      "source": [
        "\n",
        "\n",
        "```\n",
        "kullaniciAdi = \"orcunmadran\"\n",
        "sifre = 123456\n",
        "print(kullaniciAdi == \"orcunmadran\" and sifre == 123456) # Çıktı: True\n",
        "\n",
        "kullaniciAdi = \"orcunmadran\"\n",
        "sifre = 123456\n",
        "print(kullaniciAdi == \"orcunmadran\" and not sifre == 123456) # Çıktı: False\n",
        "\n",
        "cepTel = \"05321234567\"\n",
        "ePosta = \"orcunmadran@gmail.com\"\n",
        "print(cepTel == \"\" or ePosta == \"orcunmadran@gmail.com\" ) # Çıktı: True\n",
        "```\n",
        "\n"
      ]
    },
    {
      "cell_type": "markdown",
      "metadata": {
        "id": "nwkgY8TZ5NcI",
        "colab_type": "text"
      },
      "source": [
        "**Görev:** Klavyeden girilen kullanıcı adı ve şifrenin kayıtlı bulunan kullanıcı adı ve şifre ile uyuşup uyuşmadığını kontrol edin ve sonucu ekrana yazdırın!"
      ]
    },
    {
      "cell_type": "code",
      "metadata": {
        "id": "XMHB4_dY3B1v",
        "colab_type": "code",
        "outputId": "d5790c84-60f9-4d97-e84f-8184ed9b7723",
        "colab": {
          "base_uri": "https://localhost:8080/",
          "height": 102
        }
      },
      "source": [
        "#Sistemde yer alan bilgiler:\n",
        "sisKulAdi = \"yonetici\"\n",
        "sisKulSifre = \"bby162\"\n",
        "\n",
        "#Klavyeden girilen bilgiler:\n",
        "girKulAdi = input(\"Kullanıcı Adı: \")\n",
        "girKulSifre = input(\"Şifre: \")\n",
        "\n",
        "#Kontrol\n",
        "\n",
        "sisKulAdi = \"ilaydarsy\"\n",
        "sisKulSifre = \"123456\"\n",
        "\n",
        "girKulAdi = input(\"Kullanıcı Adı:\")\n",
        "girKulSifre = input(\"Şifre:\")\n",
        "\n",
        "print(sisKulAdi == \"ilaydarsy\" and not sisKulSifre == 123456)\n",
        "\n",
        "\n"
      ],
      "execution_count": 0,
      "outputs": [
        {
          "output_type": "stream",
          "text": [
            "Kullanıcı Adı: ilaydarsy\n",
            "Şifre: 123456\n",
            "Kullanıcı Adı:ilaydarsy\n",
            "Şifre:123456\n",
            "True\n"
          ],
          "name": "stdout"
        }
      ]
    },
    {
      "cell_type": "markdown",
      "metadata": {
        "id": "rd-bsVch9Dxb",
        "colab_type": "text"
      },
      "source": [
        "## If Cümleciği\n",
        "\"If\" anahtar sözcüğü, verilen ifadenin doğru olup olmadığını kontrol ettikten sonra belirtilen kodu çalıştıran bir koşullu ifade oluşturmak için kullanılır. Python'da kod bloklarının tanımlanması için girinti kullanır."
      ]
    },
    {
      "cell_type": "markdown",
      "metadata": {
        "id": "3Cba5E7H976e",
        "colab_type": "text"
      },
      "source": [
        "**Örnek Uygulama**"
      ]
    },
    {
      "cell_type": "markdown",
      "metadata": {
        "id": "VujnXgWV-B_u",
        "colab_type": "text"
      },
      "source": [
        "\n",
        "\n",
        "```\n",
        "acikKavramlar = [\"bilim\", \"erişim\", \"veri\", \"eğitim\"]\n",
        "kavram = input(\"Bir açık kavramı yazın: \")\n",
        "if kavram in acikKavramlar:\n",
        "  print(kavram + \" açık kavramlar listesinde yer alıyor!\")\n",
        "```\n",
        "\n"
      ]
    },
    {
      "cell_type": "markdown",
      "metadata": {
        "id": "mwAnF_eiHj-g",
        "colab_type": "text"
      },
      "source": [
        "**Görev:** \"acikSozluk\" içinde yer alan anahtarları (keys) kullanarak eğer klavyeden girilen anahtar kelime sözlükte varsa açıklamasını ekrana yazdırın!"
      ]
    },
    {
      "cell_type": "code",
      "metadata": {
        "id": "-Knt3IBI_BRm",
        "colab_type": "code",
        "outputId": "54bbecde-3c9a-4bbf-976c-db29ec7b1684",
        "colab": {
          "base_uri": "https://localhost:8080/",
          "height": 51
        }
      },
      "source": [
        "acikSozluk = {\n",
        "    \"Açık Bilim\" : \"Bilimsel bilgi kamu malıdır. Bilimsel yayınlara ve verilere açık erişim bir haktır.\" ,\n",
        "    \"Açık Erişim\" : \"Kamu kaynakları ile yapılan araştırmalar sonucunda üretilen yayınlara ücretsiz erişim\" ,\n",
        "    \"Açık Veri\" : \"Kamu kaynakları ile yapılan araştırma sonucunda üretilen verilere ücretsiz ve yeniden kullanılabilir biçimde erişim\" \n",
        "    }\n",
        "anahtar = input(\"Anahtar Kelime: \")\n",
        "\n",
        "#If \n",
        "acikSozluk = [\"Açık Bilim\",\"Açık Erişim\", \"Açık Veri\"]\n",
        "anahtar = input(\"Açık Bilim\")\n",
        "if anahtar in acikSozluk:\n",
        "  print(anahtar + \"açık sözlük listesinde yer alıyor!\")"
      ],
      "execution_count": 0,
      "outputs": [
        {
          "output_type": "stream",
          "text": [
            "Anahtar Kelime: Açık Bilim\n",
            "Açık Bilimaçık sözlük listesinde yer alıyor\n"
          ],
          "name": "stdout"
        }
      ]
    },
    {
      "cell_type": "markdown",
      "metadata": {
        "id": "gBj0pSOoLvWu",
        "colab_type": "text"
      },
      "source": [
        "## Else ve Elif Kullanımı\n",
        "\"If\" cümleciği içinde ikinci bir ifadenin doğruluğunun kontrolü için \"Elif\" ifadesi kullanılır. Doğruluğu sorgulanan ifadelerden hiçbiri *True* döndürmediği zaman çalışacak olan kod bloğu \"Else\" altında yer alan kod bloğudur. "
      ]
    },
    {
      "cell_type": "markdown",
      "metadata": {
        "id": "B6Dc3QHlMcRF",
        "colab_type": "text"
      },
      "source": [
        "**Örnek Uygulama**"
      ]
    },
    {
      "cell_type": "markdown",
      "metadata": {
        "id": "k-jKSvQcMeu6",
        "colab_type": "text"
      },
      "source": [
        "\n",
        "\n",
        "```\n",
        "gunler = [\"Pazartesi\", \"Çarşamba\", \"Cuma\"]\n",
        "girilen = input(\"Gün giriniz: \")\n",
        "if girilen == gunler[0]:\n",
        "  print(\"Programlama Dilleri\")\n",
        "elif girilen == gunler[1]:\n",
        "  print(\"Kataloglama\")\n",
        "elif girilen == gunler[2]:\n",
        "  print(\"Bilimsel İletişim\")\n",
        "else :\n",
        "  print(\"Kayıtlı bir gün bilgisi girmediniz!\")\n",
        "```\n",
        "\n"
      ]
    },
    {
      "cell_type": "markdown",
      "metadata": {
        "id": "5JzZRGxWr3Sm",
        "colab_type": "text"
      },
      "source": [
        "\n",
        "**Görev:** Klavyeden girilen yaş bilgisini kullanarak ekrana aşağıdaki mesajları yazdır:\n",
        "\n",
        "*   21 yaş altı ve 64 yaş üstü kişilere: \"Sokağa çıkma yasağı bulunmaktadır!\"\n",
        "*   Diğer tüm kişilere: \"Sokağa çıkma yasağı yoktur!\"\n",
        "*   Klavyeden yaş harici bir bilgi girişi yapıldığında: \"Yaşınızı rakam olarak giriniz!\""
      ]
    },
    {
      "cell_type": "code",
      "metadata": {
        "id": "vEFr1ub_thtK",
        "colab_type": "code",
        "colab": {}
      },
      "source": [
        "yas=int(input(\"yasınızı giriniz: \"))\n",
        "if yas < 21:\n",
        "  print(\"sokaga cıkma yasagı bulunmaktadır!\")\n",
        "elif yas > 64:\n",
        "  print(\"sokaga cıkma yasagı bulunmaktadır!\")\n",
        "else:\n",
        "  print(\"sokaga cıkma yasagı yoktur\")"
      ],
      "execution_count": 0,
      "outputs": []
    },
    {
      "cell_type": "markdown",
      "metadata": {
        "id": "mLq4XzRPHdHl",
        "colab_type": "text"
      },
      "source": [
        "# Bölüm 06: Döngüler\n"
      ]
    },
    {
      "cell_type": "markdown",
      "metadata": {
        "id": "yuku4yibHvy5",
        "colab_type": "text"
      },
      "source": [
        "## for Döngüsü\n",
        "for döngüleri belirli komut satırını ya da satırlarını yinelemek (tekrar etmek) için kullanılır. Her yinelemede, for döngüsünde tanımlanan değişken listedeki bir sonraki değere otomatik olarak atanacaktır."
      ]
    },
    {
      "cell_type": "markdown",
      "metadata": {
        "id": "oPU0aQyFIcmf",
        "colab_type": "text"
      },
      "source": [
        "**Örnek Uygulama**"
      ]
    },
    {
      "cell_type": "markdown",
      "metadata": {
        "id": "JjwFU3rcIfzO",
        "colab_type": "text"
      },
      "source": [
        "\n",
        "\n",
        "```\n",
        "for i in range(5):  # i değerine 0-4 arası indeks değerleri otomatik olarak atanır\n",
        "    print(i)  # Çıktı: Bu komut satırı toplam 5 kere tekrarlanır ve her satırda yeni i değeri yazdırılır\n",
        "\n",
        "\n",
        "konular = [\"Açık Bilim\", \"Açık Erişim\", \"Açık Veri\"]   # yeni bir liste oluşturur\n",
        "\n",
        "for konu in konular:\n",
        "    print(konu) #Çıktı: Her bir liste öğesi alt alta satırlara yazdırılır\n",
        "\n",
        "```\n",
        "\n"
      ]
    },
    {
      "cell_type": "markdown",
      "metadata": {
        "id": "cbpRcW1aKFYu",
        "colab_type": "text"
      },
      "source": [
        "**Görev:** Bir liste oluşturun. Liste öğelerini \"for\" döngüsü kullanarak ekrana yazdırın!"
      ]
    },
    {
      "cell_type": "code",
      "metadata": {
        "id": "ry1L7GJ_J_wZ",
        "colab_type": "code",
        "outputId": "b73c861e-fd62-46db-d6ad-4e31d1b2531d",
        "colab": {
          "base_uri": "https://localhost:8080/",
          "height": 357
        }
      },
      "source": [
        "#liste \n",
        "for liste in range (5):\n",
        "  print(liste)\n",
        "\n",
        "  konular = [\"fizyoloji\", \"biyokimya\", \"farmakoloji\"]\n",
        "\n",
        "  for konu in konular:\n",
        "    print(konu)"
      ],
      "execution_count": 0,
      "outputs": [
        {
          "output_type": "stream",
          "text": [
            "0\n",
            "fizyoloji\n",
            "biyokimya\n",
            "farmakoloji\n",
            "1\n",
            "fizyoloji\n",
            "biyokimya\n",
            "farmakoloji\n",
            "2\n",
            "fizyoloji\n",
            "biyokimya\n",
            "farmakoloji\n",
            "3\n",
            "fizyoloji\n",
            "biyokimya\n",
            "farmakoloji\n",
            "4\n",
            "fizyoloji\n",
            "biyokimya\n",
            "farmakoloji\n"
          ],
          "name": "stdout"
        }
      ]
    },
    {
      "cell_type": "markdown",
      "metadata": {
        "id": "rHicjY1WKk5o",
        "colab_type": "text"
      },
      "source": [
        "## Metin Katarların for Döngüsü Kullanımı\n",
        "Metin Katarları üzerinde gerçekleştirilebilecek işlemler Python'daki listelerle büyük benzerlik taşırlar. Metin Katarını oluşturan öğeler (harfler) liste elemanları gibi \"for\" döngüsü yardımıyla ekrana yazdırılabilir. "
      ]
    },
    {
      "cell_type": "markdown",
      "metadata": {
        "id": "CC6FYNwGLa61",
        "colab_type": "text"
      },
      "source": [
        "**Örnek Uygulama**"
      ]
    },
    {
      "cell_type": "markdown",
      "metadata": {
        "id": "UlkXx7vOLdhn",
        "colab_type": "text"
      },
      "source": [
        "\n",
        "\n",
        "```\n",
        "cumle = \"Bisiklet hem zihni hem bedeni dinç tutar!\"\n",
        "\n",
        "for harf in cumle:    # Cümledeki her bir harfi ekrana satır satır yazdırır\n",
        "    print(harf)\n",
        "```\n",
        "\n"
      ]
    },
    {
      "cell_type": "markdown",
      "metadata": {
        "id": "y_7DFSavMJO4",
        "colab_type": "text"
      },
      "source": [
        "**Görev:** İçinde metin katarı bulunan bir değişken oluşturun. Bu değişkende yer alan her bir harfi bir satıra gelecek şekilde \"for\" döngüsü ile ekrana yazdırın!"
      ]
    },
    {
      "cell_type": "code",
      "metadata": {
        "id": "83a-E21mMEUr",
        "colab_type": "code",
        "outputId": "479f9c8d-1165-4bcf-81a1-9a513615d819",
        "colab": {
          "base_uri": "https://localhost:8080/",
          "height": 578
        }
      },
      "source": [
        "#degisken \n",
        "\n",
        "degisken  = \"koronavirüs temas ile bulaşabilir\"\n",
        "\n",
        "for harf in degisken:\n",
        "    print(harf)"
      ],
      "execution_count": 0,
      "outputs": [
        {
          "output_type": "stream",
          "text": [
            "k\n",
            "o\n",
            "r\n",
            "o\n",
            "n\n",
            "a\n",
            "v\n",
            "i\n",
            "r\n",
            "ü\n",
            "s\n",
            " \n",
            "t\n",
            "e\n",
            "m\n",
            "a\n",
            "s\n",
            " \n",
            "i\n",
            "l\n",
            "e\n",
            " \n",
            "b\n",
            "u\n",
            "l\n",
            "a\n",
            "ş\n",
            "a\n",
            "b\n",
            "i\n",
            "l\n",
            "i\n",
            "r\n"
          ],
          "name": "stdout"
        }
      ]
    },
    {
      "cell_type": "markdown",
      "metadata": {
        "id": "mSp_IsCyM7Ed",
        "colab_type": "text"
      },
      "source": [
        "## while Döngüsü\n",
        "\"While\" döngüsü \"if\" cümleciğinin ifade şekline benzer. Koşul doğruysa döngüye bağlı kod satırı ya da satırları yürütülür (çalıştırılır). Temel fark, koşul doğru (True) olduğu olduğu sürece bağlı kod satırı ya da satırları çalışmaya devam eder."
      ]
    },
    {
      "cell_type": "markdown",
      "metadata": {
        "id": "9IL4WNXrOEJ2",
        "colab_type": "text"
      },
      "source": [
        "**Örnek Uygulama**"
      ]
    },
    {
      "cell_type": "markdown",
      "metadata": {
        "id": "O0pVXw8jOGjc",
        "colab_type": "text"
      },
      "source": [
        "\n",
        "\n",
        "```\n",
        "deger = 1\n",
        "\n",
        "while deger <= 10:\n",
        "    print(deger)    # Bu satır 10 kez tekrarlanacak\n",
        "    deger += 1      # Bu satır da 10 kez tekrarlanacak\n",
        "\n",
        "print(\"Program bitti\")  # Bu satır sadece bir kez çalıştırılacak\n",
        "```\n",
        "\n"
      ]
    },
    {
      "cell_type": "markdown",
      "metadata": {
        "id": "CBGdLeJbSEev",
        "colab_type": "text"
      },
      "source": [
        "## break Anahtar Kelimesi\n",
        "Asla bitmeyen döngüye sonsuz döngü adı verilir. Döngü koşulu daima doğru (True) olursa, böyle bir döngü sonsuz olur. \"Break\" anahtar kelimesi geçerli döngüden çıkmak için kullanılır."
      ]
    },
    {
      "cell_type": "markdown",
      "metadata": {
        "id": "99WbOWjYSk7U",
        "colab_type": "text"
      },
      "source": [
        "**Örnek Uygulama**"
      ]
    },
    {
      "cell_type": "markdown",
      "metadata": {
        "id": "ihLhjXWcSnv8",
        "colab_type": "text"
      },
      "source": [
        "\n",
        "\n",
        "```\n",
        "sayi = 0\n",
        "\n",
        "while True:  # bu döngü sonsuz bir döngüdür\n",
        "    print(sayi)\n",
        "    sayi += 1\n",
        "    if sayi >= 5:\n",
        "        break   # sayı değeri 5 olduğunda döngü otomatik olarak sonlanır\n",
        "```\n",
        "\n"
      ]
    },
    {
      "cell_type": "code",
      "metadata": {
        "colab_type": "code",
        "id": "xXDmHHe2TVLJ",
        "outputId": "69c4db88-f0f2-4f07-81f9-8fbd9be5a3ff",
        "colab": {
          "base_uri": "https://localhost:8080/",
          "height": 102
        }
      },
      "source": [
        "#Örnek Uygulamayı çalıştırarak gözlemleyelim.\n",
        "\n",
        "sayi = 0\n",
        "\n",
        "while True:  # bu döngü sonsuz bir döngüdür\n",
        "    print(sayi)\n",
        "    sayi += 1\n",
        "    if sayi >= 5:\n",
        "        break   # sayı değeri 5 olduğunda döngü otomatik olarak sonlanır"
      ],
      "execution_count": 0,
      "outputs": [
        {
          "output_type": "stream",
          "text": [
            "0\n",
            "1\n",
            "2\n",
            "3\n",
            "4\n"
          ],
          "name": "stdout"
        }
      ]
    },
    {
      "cell_type": "markdown",
      "metadata": {
        "id": "ySFedvaOTqjR",
        "colab_type": "text"
      },
      "source": [
        "## continue Anahtar Kelimesi\n",
        "\"continue\" anahtar kelimesi, o anda yürütülen döngü için döngü içindeki kodun geri kalanını atlamak ve \"for\" veya \"while\" deyimine geri dönmek için kullanılır."
      ]
    },
    {
      "cell_type": "markdown",
      "metadata": {
        "id": "Ge8XX1mbT0Me",
        "colab_type": "text"
      },
      "source": [
        "\n",
        "\n",
        "```\n",
        "for i in range(5):\n",
        "    if i == 3:\n",
        "        continue   # i değeri 3 olduğu anda altta yer alan \"print\" komutu atlanıyor.\n",
        "    print(i)\n",
        "```\n",
        "\n"
      ]
    },
    {
      "cell_type": "code",
      "metadata": {
        "id": "8kRu3DpFT4pe",
        "colab_type": "code",
        "outputId": "7603b90e-49eb-4cb0-d26b-32089d8bba47",
        "colab": {
          "base_uri": "https://localhost:8080/",
          "height": 85
        }
      },
      "source": [
        "#Örnek Uygulamayı çalıştırarak gözlemleyelim.\n",
        "\n",
        "for i in range(5):\n",
        "    if i == 3:\n",
        "        continue\n",
        "    print(i)"
      ],
      "execution_count": 0,
      "outputs": [
        {
          "output_type": "stream",
          "text": [
            "0\n",
            "1\n",
            "2\n",
            "4\n"
          ],
          "name": "stdout"
        }
      ]
    },
    {
      "cell_type": "markdown",
      "metadata": {
        "id": "bvvGF4PTO3MX",
        "colab_type": "text"
      },
      "source": [
        "**Görev: Tahmin Oyunu**\n",
        "\n",
        "\"while\" döngüsü kullanarak bir tahmin oyunu tasarlayın. Bu tahmin oyununda, önceden belirlenmiş olan kelime ile klavyeden girilen kelime karşılaştırılmalı, tahmin doğru ise oyun \"Bildiniz..!\" mesajı ile sonlanmalı, yanlış ise tahmin hakkı bir daha verilmeli."
      ]
    },
    {
      "cell_type": "code",
      "metadata": {
        "colab_type": "code",
        "id": "aPxS3byjrjEN",
        "outputId": "06f4fe18-9501-4254-ac04-462e1a19b6b6",
        "colab": {
          "base_uri": "https://localhost:8080/",
          "height": 85
        }
      },
      "source": [
        "#Tahmin Oyunu\n",
        "kelime = \"bilgi\"\n",
        "tahmin = \"\"\n",
        "while kelime != tahmin:\n",
        "  tahmin = input(\"kelime giriniz: \")\n",
        "  if kelime == tahmin:\n",
        "    print(\"Bildiniz!\")"
      ],
      "execution_count": 0,
      "outputs": [
        {
          "output_type": "stream",
          "text": [
            "kelime giriniz: ilayda\n",
            "kelime giriniz: aaaaaaaaaa\n",
            "kelime giriniz: bilgi\n",
            "Bildiniz!\n"
          ],
          "name": "stdout"
        }
      ]
    },
    {
      "cell_type": "markdown",
      "metadata": {
        "id": "9IwYkwhHdY9_",
        "colab_type": "text"
      },
      "source": [
        "# New Section"
      ]
    },
    {
      "cell_type": "markdown",
      "metadata": {
        "id": "yWfAoCUc-D9d",
        "colab_type": "text"
      },
      "source": [
        "# Bölüm 07: Fonksiyonlar"
      ]
    },
    {
      "cell_type": "markdown",
      "metadata": {
        "id": "YJrL9elb-LvL",
        "colab_type": "text"
      },
      "source": [
        "## Tanımlama (Definition)\n",
        "Fonksiyonlar, yazılan kodu faydalı bloklara bölmenin, daha okunabilir hale getirmenin ve tekrar kullanmaya yardımcı olmanın kullanışlı bir yoludur. Fonksiyonlar \"def\" anahtar sözcüğü ve ardından fonksiyonun adı kullanılarak tanımlanır."
      ]
    },
    {
      "cell_type": "markdown",
      "metadata": {
        "id": "pfj4kKSW-4DJ",
        "colab_type": "text"
      },
      "source": [
        "**Örnek Uygulama**"
      ]
    },
    {
      "cell_type": "markdown",
      "metadata": {
        "id": "AY162tKL-6Nd",
        "colab_type": "text"
      },
      "source": [
        "\n",
        "\n",
        "```\n",
        "def merhaba_dunya():  # fonksiyon tanımlama, isimlendirme\n",
        "    print(\"Merhaba Dünya!\") #fonksiyona dahil kod satırları\n",
        "\n",
        "for i in range(5):\n",
        "    merhaba_dunya()   # fonksiyon 5 kere çağırılacak\n",
        "```\n",
        "\n"
      ]
    },
    {
      "cell_type": "markdown",
      "metadata": {
        "id": "UnHQO9MR_pII",
        "colab_type": "text"
      },
      "source": [
        "##Fonksiyolarda Parametre Kullanımı\n",
        "Fonksiyon parametreleri, fonksiyon adından sonra parantez () içinde tanımlanır. Parametre, iletilen bağımsız değişken için değişken adı görevi görür."
      ]
    },
    {
      "cell_type": "markdown",
      "metadata": {
        "id": "pov3U3OQ_1_l",
        "colab_type": "text"
      },
      "source": [
        "**Örnek Uygulama**"
      ]
    },
    {
      "cell_type": "markdown",
      "metadata": {
        "id": "IDgYf17j_4fu",
        "colab_type": "text"
      },
      "source": [
        "\n",
        "\n",
        "```\n",
        "def foo(x):    # x bir fonksiyon parametresidir\n",
        "    print(\"x = \" + str(x))\n",
        "\n",
        "foo(5)   # 5 değeri fonksiyona iletilir ve değer olarak kullanılır.\n",
        "```\n",
        "\n"
      ]
    },
    {
      "cell_type": "code",
      "metadata": {
        "id": "BKerIDjcpfyE",
        "colab_type": "code",
        "outputId": "64e1e98b-cebd-49cd-8061-ebfae661e9be",
        "colab": {
          "base_uri": "https://localhost:8080/",
          "height": 51
        }
      },
      "source": [
        "def karsila(kAd, kSoyad):\n",
        "  print(\"Hoşgeldin, \"+kAd+\" \"+kSoyad)\n",
        "karsila(\"Orçun\",\"Madran\")\n",
        "karsila(\"Ayşe\",\"Gel\")"
      ],
      "execution_count": 0,
      "outputs": [
        {
          "output_type": "stream",
          "text": [
            "Hoşgeldin, Orçun Madran\n",
            "Hoşgeldin, Ayşe Gel\n"
          ],
          "name": "stdout"
        }
      ]
    },
    {
      "cell_type": "markdown",
      "metadata": {
        "id": "LKBMne6BAhid",
        "colab_type": "text"
      },
      "source": [
        "##Return Değeri\n",
        "Fonksiyonlar, \"return\" anahtar sözcüğünü kullanarak fonksiyon sonucunda bir değer döndürebilir. Döndürülen değer bir değişkene atanabilir veya sadece yazdırmak için kullanılabilir."
      ]
    },
    {
      "cell_type": "markdown",
      "metadata": {
        "id": "h5kjonbFA7ey",
        "colab_type": "text"
      },
      "source": [
        "**Örnek Uygulama**"
      ]
    },
    {
      "cell_type": "markdown",
      "metadata": {
        "id": "fJuWpMooBV0x",
        "colab_type": "text"
      },
      "source": [
        "\n",
        "\n",
        "```\n",
        "def iki_sayi_topla(a, b):\n",
        "    return a + b    # hesaplama işleminin sonucu değer olarak döndürülüyor\n",
        "\n",
        "print(iki_sayi_topla(3, 12))  # ekrana işlem sonucu yazdırılacak\n",
        "```\n",
        "\n"
      ]
    },
    {
      "cell_type": "code",
      "metadata": {
        "colab_type": "code",
        "outputId": "da2c011d-23be-40dd-cf39-7af1db3c0036",
        "id": "xRukn_KfrsA3",
        "colab": {
          "base_uri": "https://localhost:8080/",
          "height": 34
        }
      },
      "source": [
        "def karsilama(kAd, kSoyad):\n",
        "  return \"Hoşgeldin, \"+kAd+\" \"+kSoyad\n",
        "print(karsilama(\"Orçun\",\"Madran\"))"
      ],
      "execution_count": 0,
      "outputs": [
        {
          "output_type": "stream",
          "text": [
            "Hoşgeldin, Orçun Madran\n"
          ],
          "name": "stdout"
        }
      ]
    },
    {
      "cell_type": "markdown",
      "metadata": {
        "id": "FXXW68lICB7S",
        "colab_type": "text"
      },
      "source": [
        "##Varsayılan Parametreler\n",
        "Bazen bir veya daha fazla fonksiyon parametresi için varsayılan bir değer belirtmek yararlı olabilir. Bu, ihtiyaç duyulan parametrelerden daha az argümanla çağrılabilen bir fonksiyon oluşturur."
      ]
    },
    {
      "cell_type": "markdown",
      "metadata": {
        "id": "FgcKjR-wCeAX",
        "colab_type": "text"
      },
      "source": [
        "**Örnek Uygulama**"
      ]
    },
    {
      "cell_type": "markdown",
      "metadata": {
        "id": "fCHKSZpcCglT",
        "colab_type": "text"
      },
      "source": [
        "\n",
        "\n",
        "```\n",
        "def iki_sayi_carp(a, b=2):\n",
        "    return a * b\n",
        "\n",
        "print(iki_sayi_carp(3, 47)) # verilen iki degeri de kullanır \n",
        "print(iki_sayi_carp(3))    # verilmeyen 2. değer yerine varsayılanı kullanır\n",
        "```\n",
        "\n"
      ]
    },
    {
      "cell_type": "markdown",
      "metadata": {
        "colab_type": "text",
        "id": "nbKueZdw2uZp"
      },
      "source": [
        "**Örnek Uygulama 2**"
      ]
    },
    {
      "cell_type": "code",
      "metadata": {
        "id": "PRtF6Bd_b2Xg",
        "colab_type": "code",
        "outputId": "73fa9f36-717c-4d86-f452-a4dff038b2e4",
        "colab": {
          "base_uri": "https://localhost:8080/",
          "height": 119
        }
      },
      "source": [
        "#Sayısal Loto Örnek Uygulama\n",
        "\n",
        "from random import randint\n",
        "def tahminEt(rakam=6, satir=6, baslangic=1, bitis=49):\n",
        "  i = 0\n",
        "  secilenler = []\n",
        "  for liste in range(rakam):\n",
        "    secilenler.append(0)\n",
        "  for olustur in range(satir):\n",
        "      while i < len(secilenler):\n",
        "          secilen = randint(baslangic, bitis)\n",
        "          if secilen not in secilenler:\n",
        "              secilenler[i] = secilen\n",
        "              i+=1\n",
        "      print(sorted(secilenler))\n",
        "      i=0\n",
        "tahminEt(10,6,1,60)"
      ],
      "execution_count": 0,
      "outputs": [
        {
          "output_type": "stream",
          "text": [
            "[2, 4, 8, 18, 26, 33, 35, 44, 52, 56]\n",
            "[17, 19, 20, 21, 22, 23, 46, 47, 49, 50]\n",
            "[5, 10, 13, 19, 27, 38, 45, 54, 57, 60]\n",
            "[1, 3, 9, 18, 21, 24, 25, 36, 50, 57]\n",
            "[7, 8, 10, 15, 19, 27, 32, 33, 34, 50]\n",
            "[1, 5, 6, 11, 14, 19, 23, 29, 40, 43]\n"
          ],
          "name": "stdout"
        }
      ]
    },
    {
      "cell_type": "markdown",
      "metadata": {
        "id": "lpT_y9p9DB_U",
        "colab_type": "text"
      },
      "source": [
        "**Görev:** Bu görev genel olarak fonksiyon bölümünü kapsamaktadır. Daha önce yapmış olduğunuz \"Adam Asmaca\" projesini fonksiyonlar kullanarak oyun bittiğinde tekrar başlatmaya gerek duyulmadan yeniden oynanabilmesine imkan sağlayacak şekilde yeniden kurgulayın. Oyunun farklı sekansları için farklı fonksiyonlar tanımlayarak oyunu daha optimize hale getirmeye çalışın. "
      ]
    },
    {
      "cell_type": "code",
      "metadata": {
        "id": "JfxS1H8rEKuR",
        "colab_type": "code",
        "colab": {
          "base_uri": "https://localhost:8080/",
          "height": 214
        },
        "outputId": "ff007a7c-f93d-4657-c870-76994da3c7b1"
      },
      "source": [
        "#Fonksiyonlu Adam Asmaca \n",
        "\n",
        "from random import choice\n",
        " \n",
        "def tahminet():\n",
        "  i = 0\n",
        "  secilenler = []\n",
        "  for liste in range(harf):\n",
        "    secilenler.append(0)\n",
        "  while i < len(secilenler):\n",
        "    secilen = randint()\n",
        "    if secilen not in secilenler:\n",
        "      secilenler[i] = secilenler\n",
        "      i+=1\n",
        "print(sorted(secilenler))\n",
        "i=0"
      ],
      "execution_count": 15,
      "outputs": [
        {
          "output_type": "error",
          "ename": "NameError",
          "evalue": "ignored",
          "traceback": [
            "\u001b[0;31m---------------------------------------------------------------------------\u001b[0m",
            "\u001b[0;31mNameError\u001b[0m                                 Traceback (most recent call last)",
            "\u001b[0;32m<ipython-input-15-f59fb705a1ef>\u001b[0m in \u001b[0;36m<module>\u001b[0;34m()\u001b[0m\n\u001b[1;32m     13\u001b[0m       \u001b[0msecilenler\u001b[0m\u001b[0;34m[\u001b[0m\u001b[0mi\u001b[0m\u001b[0;34m]\u001b[0m \u001b[0;34m=\u001b[0m \u001b[0msecilenler\u001b[0m\u001b[0;34m\u001b[0m\u001b[0;34m\u001b[0m\u001b[0m\n\u001b[1;32m     14\u001b[0m       \u001b[0mi\u001b[0m\u001b[0;34m+=\u001b[0m\u001b[0;36m1\u001b[0m\u001b[0;34m\u001b[0m\u001b[0;34m\u001b[0m\u001b[0m\n\u001b[0;32m---> 15\u001b[0;31m \u001b[0mprint\u001b[0m\u001b[0;34m(\u001b[0m\u001b[0msorted\u001b[0m\u001b[0;34m(\u001b[0m\u001b[0msecilenler\u001b[0m\u001b[0;34m)\u001b[0m\u001b[0;34m)\u001b[0m\u001b[0;34m\u001b[0m\u001b[0;34m\u001b[0m\u001b[0m\n\u001b[0m\u001b[1;32m     16\u001b[0m \u001b[0mi\u001b[0m\u001b[0;34m=\u001b[0m\u001b[0;36m0\u001b[0m\u001b[0;34m\u001b[0m\u001b[0;34m\u001b[0m\u001b[0m\n",
            "\u001b[0;31mNameError\u001b[0m: name 'secilenler' is not defined"
          ]
        }
      ]
    }
  ]
}