{
  "nbformat": 4,
  "nbformat_minor": 0,
  "metadata": {
    "colab": {
      "name": "basit_katalog.ipynb",
      "provenance": [],
      "collapsed_sections": [],
      "authorship_tag": "ABX9TyPjO93/F0Mg2oRK3NNapaPx",
      "include_colab_link": true
    },
    "kernelspec": {
      "name": "python3",
      "display_name": "Python 3"
    }
  },
  "cells": [
    {
      "cell_type": "markdown",
      "metadata": {
        "id": "view-in-github",
        "colab_type": "text"
      },
      "source": [
        "<a href=\"https://colab.research.google.com/github/ilaydarisoy/bby162/blob/master/basit_katalog.ipynb\" target=\"_parent\"><img src=\"https://colab.research.google.com/assets/colab-badge.svg\" alt=\"Open In Colab\"/></a>"
      ]
    },
    {
      "cell_type": "code",
      "metadata": {
        "id": "MXS12OhJGQhe",
        "colab_type": "code",
        "colab": {
          "base_uri": "https://localhost:8080/",
          "height": 73
        },
        "outputId": "fa6475a9-c662-42fc-fe1a-ea5c7b1d92aa"
      },
      "source": [
        "print(\"kütüphane katalogu giriş\")\n",
        "kullanıcıadi = \"ilaydarsy\"\n",
        "sifre = \"21865333\"\n",
        "gAdi = input(\"kullanıcı adınızı giriniz: \")\n",
        "gSifre = input(\"sifrenizi giriniz: \")\n",
        "\n",
        "dosya = open(\"katalog_listesi.txt\", \"w\")\n",
        "dosya.write(\"Hakan Günay-Kinyas ve Kayra-2003-Doğan Kitap-9789759917951\\Oscar Wilde-Dorian Grey'in Portresi-2018-Can yayınları-9789750739170\")\n",
        "dosya.close\n",
        "\n",
        "#file = open(\"katalog_listesi\".txt\", \"r\")\n",
        "#print(file.read())\n",
        "#file.close\n",
        "\n",
        "if gAdi == kullanıcıadi and gSifre == Sifre:\n",
        "    print(\"Hoş Geldiniz\")\n",
        "KATALOG = input(\"Yazar için Y \\n\"\n",
        "               \"YayınEvi için Z \\n\"\n",
        "               \"Eser için E  \\n\"\n",
        "               \"Yayın yılı C \\n\"\n",
        "               \"Barkod numarası için B \\n\")\n",
        "\n",
        "if KATALOG == \"Y\":\n",
        "        kullanıcı = input(\"yazar adı giriniz: \").casefold()\n",
        "        if kullanıcı == \"Hakan Günday\".casefold():\n",
        "          print(\"Hakan Günay-Kinyas ve Kayra-2003-Doğan Kitap-9789759917951\")\n",
        "        elif kullanıcı == \"Oscar Wilde\".casefold():\n",
        "          print(\"Oscar Wilde-Dorian Grey'in Portresi-2018-Can yayınları-9789750739170\")\n",
        "        else:\n",
        "          print(\"bulunamamaktadır...\")\n",
        " \n",
        "if KATALOG == \"Z\":\n",
        "        kullanıcı = input(\"yayınEvi adı giriniz: \").casefold()\n",
        "        if kullanıcı == \"Doğan Kitap\".casefold():\n",
        "          print(\"Hakan Günay-Kinyas ve Kayra-2003-Doğan Kitap-9789759917951\")\n",
        "        elif kullanıcı == \"Can yayınları\".casefold():\n",
        "          print(\"Oscar Wilde-Dorian Grey'in Portresi-2018-Can yayınları-9789750739170\")\n",
        "        else:\n",
        "          print(\"bulunmamaktadır...\")\n",
        "\n",
        "if KATALOG == \"E\":\n",
        "        kullanıcı = input(\"Eser adı giriniz: \").casefold()\n",
        "        if kullanıcı == \"Kinyas ve Kayra\".casefold():\n",
        "          print(\"Hakan Günay-Kinyas ve Kayra-2003-Doğan Kitap-9789759917951\")\n",
        "        elif kullanıcı == \"Dorian Grey'in Portresi\".casefold():\n",
        "          print(\"Oscar Wilde-Dorian Grey'in Portresi-2018-Can yayınları-9789750739170\")\n",
        "        else:\n",
        "          print(\"bulunmamaktadır...\")\n",
        "        \n",
        "if KATALOG == \"C\":\n",
        "        kullanıcı = input(\"yayın yılı giriniz: \").casefold()\n",
        "        if kullanıcı == \"2003\".casefold():\n",
        "          print(\"Hakan Günay-Kinyas ve Kayra-2003-Doğan Kitap-9789759917951\")\n",
        "        elif kullanıcı == \"2018\".casefold():\n",
        "          print(\"Oscar Wilde-Dorian Grey'in Portresi-2018-Can yayınları-9789750739170\")\n",
        "        else:\n",
        "          print(\"bulunmamaktadır...\")\n",
        "        \n",
        "if KATALOG == \"B\":\n",
        "        kullanıcı = input(\"Barkod numarası giriniz: \").casefold()\n",
        "        if kullanıcı == \"9789759917951\".casefold():\n",
        "          print(\"Hakan Günay-Kinyas ve Kayra-2003-Doğan Kitap-9789759917951\")\n",
        "        elif kullanıcı == \"9789750739170\".casefold():\n",
        "          print(\"Oscar Wilde-Dorian Grey'in Portresi-2018-Can yayınları-9789750739170\")\n",
        "        else:\n",
        "          print(\"bulunmamaktadır...\")\n"
      ],
      "execution_count": 0,
      "outputs": [
        {
          "output_type": "stream",
          "text": [
            "kütüphane katalogu giriş\n"
          ],
          "name": "stdout"
        }
      ]
    },
    {
      "cell_type": "code",
      "metadata": {
        "id": "vpGfsIXJduid",
        "colab_type": "code",
        "colab": {}
      },
      "source": [
        ""
      ],
      "execution_count": 0,
      "outputs": []
    }
  ]
}