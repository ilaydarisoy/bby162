{
  "nbformat": 4,
  "nbformat_minor": 0,
  "metadata": {
    "colab": {
      "name": "uygulamalar.ipynb",
      "provenance": [],
      "collapsed_sections": [],
      "authorship_tag": "ABX9TyM9F7hdMaamdoFVllvHAEGO",
      "include_colab_link": true
    },
    "kernelspec": {
      "name": "python3",
      "display_name": "Python 3"
    }
  },
  "cells": [
    {
      "cell_type": "markdown",
      "metadata": {
        "id": "view-in-github",
        "colab_type": "text"
      },
      "source": [
        "<a href=\"https://colab.research.google.com/github/ilaydarisoy/bby162/blob/master/adam_asmacad%C3%BCzeltilmis.ipynb\" target=\"_parent\"><img src=\"https://colab.research.google.com/assets/colab-badge.svg\" alt=\"Open In Colab\"/></a>"
      ]
    },
    {
      "cell_type": "code",
      "metadata": {
        "id": "xu4ZOPtLL68T",
        "colab_type": "code",
        "outputId": "5438a6a4-a862-418e-d95b-52e034e5f129",
        "colab": {
          "base_uri": "https://localhost:8080/",
          "height": 408
        }
      },
      "source": [
        "import random\n",
        "\n",
        "kelimeler = [\"dolap\", \"kitap\", \"lamba\"]\n",
        "kelime = random.choice(kelimeler)\n",
        "tahminsayisi = 3\n",
        "harfler = []\n",
        "a = len(kelime)\n",
        "b = list('_'*a)\n",
        "print(''.join(b), end='\\e')\n",
        "while tahminsayisi > 0:\n",
        "  c = input(\"Harf tahmininde bulunun! :\")\n",
        "  if c in harfler:\n",
        "    print(\"lütfen farklı harf tahmin ediniz!\")\n",
        "    continue\n",
        "\n",
        "  elif len(c) > 1:\n",
        "     print(\"sadece bir harf giriniz!\")\n",
        "     continue\n",
        "  elif c not in kelime:\n",
        "    print(\"yanlis\")\n",
        "  \n",
        "  else:\n",
        "   for d in range(len(kelime)):\n",
        "     if c == kelime[i]:\n",
        "       print(\"Dogru\")\n",
        "       b[d] = a\n",
        "       harfler.append(a)\n",
        "       print(''.join(b), end='\\e')\n",
        "\n",
        "  cevap = input(\"kelimeyi tahmin ediniz ['k' veya 'p'] : \")\n",
        "\n",
        "  if cevap == \"k\":\n",
        "    tahmin = input(\"kelimeyi yaziniz : \")\n",
        "    if tahmin == kelime:\n",
        "      print(\"Dogru\")\n",
        "      break\n",
        "  else:\n",
        "       tahminsayisi -= 1\n",
        "       print(\"yanlis tahmin. {} hakkiniz kaldi.\".format(tahminsayisi))\n",
        "\n",
        "\n",
        "  if tahminsayisi == 0:\n",
        "   print(\"butun hakkiniz bitti. Adam asildi.\")\n",
        "   break       "
      ],
      "execution_count": 0,
      "outputs": [
        {
          "output_type": "stream",
          "text": [
            "_____\\eHarf tahmininde bulunun! :i\n",
            "yanlis\n",
            "kelimeyi tahmin ediniz ['k' veya 'p'] : k\n",
            "kelimeyi yaziniz : kitap\n",
            "Harf tahmininde bulunun! :kitap\n",
            "sadece bir harf giriniz!\n",
            "Harf tahmininde bulunun! :k\n",
            "yanlis\n",
            "kelimeyi tahmin ediniz ['k' veya 'p'] : p\n",
            "yanlis tahmin. 2 hakkiniz kaldi.\n",
            "Harf tahmininde bulunun! :h\n",
            "yanlis\n",
            "kelimeyi tahmin ediniz ['k' veya 'p'] : k\n",
            "kelimeyi yaziniz : i\n",
            "Harf tahmininde bulunun! :i\n",
            "yanlis\n",
            "kelimeyi tahmin ediniz ['k' veya 'p'] : i\n",
            "yanlis tahmin. 1 hakkiniz kaldi.\n",
            "Harf tahmininde bulunun! :i\n",
            "yanlis\n",
            "kelimeyi tahmin ediniz ['k' veya 'p'] : jk\n",
            "yanlis tahmin. 0 hakkiniz kaldi.\n",
            "butun hakkiniz bitti. Adam asildi.\n"
          ],
          "name": "stdout"
        }
      ]
    }
  ]
}