{
  "nbformat": 4,
  "nbformat_minor": 0,
  "metadata": {
    "colab": {
      "name": "kutuphane_katalogu.ipynb",
      "provenance": [],
      "collapsed_sections": [],
      "authorship_tag": "ABX9TyNEd+OzQSM//e3Odw/nv5VC",
      "include_colab_link": true
    },
    "kernelspec": {
      "name": "python3",
      "display_name": "Python 3"
    }
  },
  "cells": [
    {
      "cell_type": "markdown",
      "metadata": {
        "id": "view-in-github",
        "colab_type": "text"
      },
      "source": [
        "<a href=\"https://colab.research.google.com/github/ilaydarisoy/bby162/blob/master/kutuphane_katalogu.ipynb\" target=\"_parent\"><img src=\"https://colab.research.google.com/assets/colab-badge.svg\" alt=\"Open In Colab\"/></a>"
      ]
    },
    {
      "cell_type": "code",
      "metadata": {
        "id": "PX6PigC-Url9",
        "colab_type": "code",
        "outputId": "dd4e9e71-b12e-4159-cdc9-3f118b5855bc",
        "colab": {
          "base_uri": "https://localhost:8080/",
          "height": 129
        }
      },
      "source": [
        "from google.colab import drive\n",
        "drive.mount('/gdrive')\n",
        "def KitapEkle():\n",
        "  dosya = open(\"katalog_listesi.txt\", \"w\")\n",
        "dosya.write(\"Hakan Günay-Kinyas ve Kayra-2003-Doğan Kitap-9789759917951\\Oscar Wilde-Dorian Grey'in Portresi-2018-Can yayınları-9789750739170\")\n",
        "dosya.close\n",
        "\n",
        "#file = open(\"katalog_listesi\".txt\", \"r\")\n",
        "#print(file.read())\n",
        "#file.close\n",
        "\n",
        "def kitap_sil(kitap_no:int):\n",
        "    dosya = open(\"katalog_listesi.txt\",encoding='utf-8', mode='r')\n",
        "    satirlar = dosya.readlines()\n",
        "    dosya.close()\n",
        "    \n",
        "    satirlar.remove(satirlar[0])\n",
        "\n",
        "    for indeks,i in enumerate(satirlar):\n",
        "        satirlar[indeks] = i.split(',')\n",
        "    \n",
        "    yeni_liste = satirlar.copy()\n",
        "\n",
        "    for i in satirlar:\n",
        "        if id_no == int(i[0]):\n",
        "            yeni_liste.remove(i)\n",
        "            dosya = open(\"katalog_listesi.txt\", 'w',encoding='utf-8')\n",
        "            dosya = \"Yazar adı, Eser adı, Yayın evi, ısbn numarası\"\n",
        "            dosya.write(dosya + '\\n')\n",
        "            \n",
        "            for i in yeni_liste:\n",
        "                satir = \",\".join(i)\n",
        "                dosya.write(satir)\n",
        "            \n",
        "            dosya.close()\n",
        "            return None\n",
        "    \n",
        "    print(\"Bulunamadı\")\n",
        "\n",
        "    def kitap_bul (id_no:int, dosya:str):\n",
        "    dosya = open(\"katalog_listesi.txt\",encoding='utf-8')\n",
        "    satirlar = dosya.readlines()\n",
        "    dosya.close()\n",
        "\n",
        "    satirlar.remove(satirlar[0])\n",
        "\n",
        "    for indeks,i in enumerate(satirlar):\n",
        "        satirlar[indeks] = i.split(',')\n",
        "\n",
        "    \n",
        "    for i in satirlar:\n",
        "        if int(i[0]) == id_no:\n",
        "            return i[Kitap_bul(dosya)]\n",
        "    \n",
        "    return(\"Bulunamadı\")\n",
        "    \n",
        "\n",
        "\n"
      ],
      "execution_count": 0,
      "outputs": [
        {
          "output_type": "error",
          "ename": "IndentationError",
          "evalue": "ignored",
          "traceback": [
            "\u001b[0;36m  File \u001b[0;32m\"<ipython-input-5-194a3d41a7c5>\"\u001b[0;36m, line \u001b[0;32m41\u001b[0m\n\u001b[0;31m    dosya = open(\"katalog_listesi.txt\",encoding='utf-8')\u001b[0m\n\u001b[0m        ^\u001b[0m\n\u001b[0;31mIndentationError\u001b[0m\u001b[0;31m:\u001b[0m expected an indented block\n"
          ]
        }
      ]
    }
  ]
}